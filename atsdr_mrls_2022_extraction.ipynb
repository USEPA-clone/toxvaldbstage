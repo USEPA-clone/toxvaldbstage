{
 "cells": [
  {
   "cell_type": "code",
   "execution_count": 64,
   "id": "87f4daea",
   "metadata": {},
   "outputs": [],
   "source": [
    "\"\"\"\n",
    "author: abrito, brito.anthony@epa.gov\n",
    "purpose: rename and add columns to ATSDR MRL 2022 table (table extracted manually from pdf)(TOXVAL-322)\n",
    "\"\"\"\n",
    "import pandas as pd\n",
    "import numpy as np"
   ]
  },
  {
   "cell_type": "code",
   "execution_count": 65,
   "id": "9901d93e",
   "metadata": {},
   "outputs": [],
   "source": [
    "#load in the manually made table\n",
    "MRL_table = pd.read_excel(r\"O:\\Public\\rsayre01\\abrito\\ATSDR MRLs 2022\\Book1 - Copy.xlsx\")"
   ]
  },
  {
   "cell_type": "code",
   "execution_count": 66,
   "id": "791f83a8",
   "metadata": {},
   "outputs": [],
   "source": [
    "#rename 'Duration' column to 'Duration_category'\n",
    "MRL_table.rename(columns = {'Duration':'Duration_category'}, inplace = True)"
   ]
  },
  {
   "cell_type": "code",
   "execution_count": 67,
   "id": "5e4a00c7",
   "metadata": {},
   "outputs": [],
   "source": [
    "#removes leading and trailing spaces in dataframe\n",
    "MRL_table = MRL_table.replace(r\"^ +| +$\", r\"\", regex=True)"
   ]
  },
  {
   "cell_type": "code",
   "execution_count": 68,
   "id": "5306ac3b",
   "metadata": {},
   "outputs": [],
   "source": [
    "#rename abbreviations for 'duration_category' to its full word\n",
    "MRL_table['Duration_category'].replace({'Acute': 'Acute', 'Int.': 'Intermediate',  'Chr.' : 'Chronic'}, inplace = True)"
   ]
  },
  {
   "cell_type": "code",
   "execution_count": 69,
   "id": "a0f24f5e",
   "metadata": {},
   "outputs": [],
   "source": [
    "#Include \"duration_value\" and \"duration_units\" columns mapped from the renamed \"duration_category\" column\n",
    "#using the last page dictionary of what \"Acute\", \"Intermediate\", and \"Chronic\" represent\n",
    "#For Duration, Acute = 1 to 14 days, Intermediate = 15 to 364 days, and Chronic = 1 year or longer\n",
    "conditions = [\n",
    "    (MRL_table['Duration_category'] == 'Acute'),\n",
    "    (MRL_table['Duration_category'] == 'Intermediate'),\n",
    "    (MRL_table['Duration_category'] == 'Chronic'),\n",
    "]\n",
    "\n",
    "values = ['1 to 14', '15 to 364', '1 or longer']\n",
    "units = ['days', 'days', 'years']\n",
    "MRL_table['Duration_value'] = np.select(conditions, values)\n",
    "MRL_table['Duration_unit'] = np.select(conditions, units)\n"
   ]
  },
  {
   "cell_type": "code",
   "execution_count": 70,
   "id": "4ed67c88",
   "metadata": {},
   "outputs": [],
   "source": [
    "#move 'Duration_value' and 'Duration_units' columns from end of table to right after 'Duration_category'\n",
    "move_dur_value = MRL_table.pop('Duration_value')\n",
    "move_dur_units = MRL_table.pop('Duration_unit')\n",
    "MRL_table.insert(3, \"Duration_value\", move_dur_value)\n",
    "MRL_table.insert(4, \"Duration_units\", move_dur_units)\n"
   ]
  },
  {
   "cell_type": "code",
   "execution_count": 71,
   "id": "b0ffda03",
   "metadata": {},
   "outputs": [],
   "source": [
    "#replace 'Route' abbreviations with its full word\n",
    "MRL_table['Route'].replace({'Oral': 'Oral', 'Rad.': 'External Radiation',  'Inh.' : 'Inhalation'}, inplace = True)"
   ]
  },
  {
   "cell_type": "code",
   "execution_count": 72,
   "id": "2b1a7a23",
   "metadata": {},
   "outputs": [],
   "source": [
    "#Split 'MRL' column into 'MRL_value' and 'MRL_unit', drip the old 'MRL' column\n",
    "MRL_table[['MRL_value', 'MRL_unit']] = MRL_table.MRL.str.split(\" \", expand = True)\n",
    "MRL_table.drop('MRL', axis=1, inplace=True)\n",
    "\n",
    "#move the new MRL columns from the end to the same position the old MRL column was\n",
    "move_mrl_value = MRL_table.pop('MRL_value')\n",
    "move_mrl_units = MRL_table.pop('MRL_unit')\n",
    "MRL_table.insert(5, \"MRL_value\", move_mrl_value)\n",
    "MRL_table.insert(6, \"MRL_unit\", move_mrl_units)\n"
   ]
  },
  {
   "cell_type": "code",
   "execution_count": 73,
   "id": "38f6fdb5",
   "metadata": {},
   "outputs": [],
   "source": [
    "#replace 'Endpoint' abbreviations with its full word, except for 'Lymphor.' value, I do not know its unabbreviated version\n",
    "#MRL_table['Endpoint'].replace({'Hepatic' : 'Hepatic', 'Neurol.' : 'Neurological', 'Resp.' : 'Respiratory', 'Develop.' : 'Developmental', 'Reprod.' : 'Reproductive', 'Hemato.' : 'Hematological', 'Renal' : 'Renal', 'Immuno.' : 'Immunological', 'Other': 'Other', 'Body Wt.' : 'Body Weight', 'Gastro.' : 'Gastrological', 'Metab.' : 'Metabolic', 'Dermal' : 'Dermal', 'Musculo.' : 'Musculoskeletal', 'Endocr.' : 'Endocrinological', 'Ocular' : 'Ocular', 'Neurol.,Develop.' : 'Neurological, Developmental', 'Neurol.,Hepatic' : 'Neurological, Hepatic', 'Hepatic,Endocr.' : 'Hepatic, Endocrinological', 'Lymphor.' : 'Lymphor.', 'Hepatic, Renal' : 'Hepatic, Renal'})"
   ]
  },
  {
   "cell_type": "code",
   "execution_count": 74,
   "id": "d6902dd9",
   "metadata": {},
   "outputs": [],
   "source": [
    "#Add url column with 'https://wwwn.cdc.gov/TSP/MRLS/mrlsListing.aspx' as the value\n",
    "MRL_table['url'] = 'https://wwwn.cdc.gov/TSP/MRLS/mrlsListing.aspx'"
   ]
  },
  {
   "cell_type": "code",
   "execution_count": 76,
   "id": "7357d892",
   "metadata": {
    "collapsed": true
   },
   "outputs": [
    {
     "name": "stdout",
     "output_type": "stream",
     "text": [
      "                  Name       Route Duration_category Duration_value  \\\n",
      "438  TRICHLOROETHYLENE  Inhalation           Chronic    1 or longer   \n",
      "439  TRICHLOROETHYLENE  Inhalation           Chronic    1 or longer   \n",
      "440  TRICHLOROETHYLENE        Oral      Intermediate      15 to 364   \n",
      "441  TRICHLOROETHYLENE        Oral      Intermediate      15 to 364   \n",
      "442  TRICHLOROETHYLENE        Oral      Intermediate      15 to 364   \n",
      "443  TRICHLOROETHYLENE        Oral           Chronic    1 or longer   \n",
      "444  TRICHLOROETHYLENE        Oral           Chronic    1 or longer   \n",
      "445  TRICHLOROETHYLENE        Oral           Chronic    1 or longer   \n",
      "\n",
      "    Duration_units MRL_value   MRL_unit  Total Factors*  Endpoint Status  \\\n",
      "438          years    0.0004        ppm              10  Develop.  Final   \n",
      "439          years    0.0004        ppm             100   Immuno.  Final   \n",
      "440           days    0.0005  mg/kg/day              10  Develop.  Final   \n",
      "441           days    0.0005  mg/kg/day             100   Immuno.  Final   \n",
      "442           days    0.0005  mg/kg/day            1000   Immuno.  Final   \n",
      "443          years    0.0005  mg/kg/day              10  Develop.  Final   \n",
      "444          years    0.0005  mg/kg/day             100   Immuno.  Final   \n",
      "445          years    0.0005  mg/kg/day            1000   Immuno.  Final   \n",
      "\n",
      "    Cover Date CAS Number                                             url  \n",
      "438      06/19    79-01-6  https://wwwn.cdc.gov/TSP/MRLS/mrlsListing.aspx  \n",
      "439      06/19    79-01-6  https://wwwn.cdc.gov/TSP/MRLS/mrlsListing.aspx  \n",
      "440      06/19    79-01-6  https://wwwn.cdc.gov/TSP/MRLS/mrlsListing.aspx  \n",
      "441      06/19    79-01-6  https://wwwn.cdc.gov/TSP/MRLS/mrlsListing.aspx  \n",
      "442      06/19    79-01-6  https://wwwn.cdc.gov/TSP/MRLS/mrlsListing.aspx  \n",
      "443      06/19    79-01-6  https://wwwn.cdc.gov/TSP/MRLS/mrlsListing.aspx  \n",
      "444      06/19    79-01-6  https://wwwn.cdc.gov/TSP/MRLS/mrlsListing.aspx  \n",
      "445      06/19    79-01-6  https://wwwn.cdc.gov/TSP/MRLS/mrlsListing.aspx  \n"
     ]
    }
   ],
   "source": [
    "#! trichloroethylene 438:446"
   ]
  },
  {
   "cell_type": "code",
   "execution_count": 75,
   "id": "9f567459",
   "metadata": {},
   "outputs": [],
   "source": [
    "MRL_table.to_excel(r'O:\\Public\\rsayre01\\abrito\\ATSDR MRLs 2022\\atsdr_mrls_2022_raw.xlsx', index = False)"
   ]
  }
 ],
 "metadata": {
  "kernelspec": {
   "display_name": "Python 3 (ipykernel)",
   "language": "python",
   "name": "python3"
  },
  "language_info": {
   "codemirror_mode": {
    "name": "ipython",
    "version": 3
   },
   "file_extension": ".py",
   "mimetype": "text/x-python",
   "name": "python",
   "nbconvert_exporter": "python",
   "pygments_lexer": "ipython3",
   "version": "3.7.11"
  }
 },
 "nbformat": 4,
 "nbformat_minor": 5
}
