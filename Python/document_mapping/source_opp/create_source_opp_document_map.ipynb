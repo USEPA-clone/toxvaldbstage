{
 "cells": [
  {
   "cell_type": "code",
   "execution_count": 77,
   "id": "e469126f",
   "metadata": {},
   "outputs": [],
   "source": [
    "#Dataframe management\n",
    "import pandas as pd"
   ]
  },
  {
   "cell_type": "code",
   "execution_count": 86,
   "id": "e908eecd",
   "metadata": {},
   "outputs": [],
   "source": [
    "#Metadata dataframe created from the origin document download\n",
    "metadata = pd.read_excel(r\"C:\\Users\\mmille16\\OneDrive - Environmental Protection Agency (EPA)\\Profile\\Desktop\\source_opp_metadata.xlsx\")\n",
    "#Clowder log from clowder document upload\n",
    "log = pd.read_csv(r\"C:\\Users\\mmille16\\clowder_log_source_opp_20230317.csv\")\n",
    "#Uploaded to test space and icf space. Need to filter the clowder log to just upload metadata to the icf space documents\n",
    "icf_folder = log['parentId'] == '6414bf32e4b08a6b393ab9a2'\n",
    "log = log[icf_folder]\n",
    "#Create document map by merging metadata and clowder log based on file names.\n",
    "doc_map = log.merge(metadata,\n",
    "                    left_on = 'subDir2',\n",
    "                    right_on = 'file_name',\n",
    "                    how = 'left').drop('file_name',axis = 1)"
   ]
  },
  {
   "cell_type": "code",
   "execution_count": 87,
   "id": "bd7cd7b2",
   "metadata": {},
   "outputs": [],
   "source": [
    "#Save the document map to the specified outpath\n",
    "out_path = r\"C:\\Users\\mmille16\\OneDrive - Environmental Protection Agency (EPA)\\Profile\\Desktop\\source_opp_doc_map.xlsx\"\n",
    "with pd.ExcelWriter(out_path) as writer:\n",
    "    doc_map.to_excel(writer, index = False)"
   ]
  },
  {
   "cell_type": "code",
   "execution_count": null,
   "id": "0f3ad98e",
   "metadata": {},
   "outputs": [],
   "source": []
  }
 ],
 "metadata": {
  "kernelspec": {
   "display_name": "Python 3 (ipykernel)",
   "language": "python",
   "name": "python3"
  },
  "language_info": {
   "codemirror_mode": {
    "name": "ipython",
    "version": 3
   },
   "file_extension": ".py",
   "mimetype": "text/x-python",
   "name": "python",
   "nbconvert_exporter": "python",
   "pygments_lexer": "ipython3",
   "version": "3.9.12"
  }
 },
 "nbformat": 4,
 "nbformat_minor": 5
}
