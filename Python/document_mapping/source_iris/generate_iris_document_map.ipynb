{
 "cells": [
  {
   "cell_type": "code",
   "execution_count": 1,
   "id": "bbdc31c9",
   "metadata": {},
   "outputs": [],
   "source": [
    "import pandas as pd\n",
    "import requests, time, re"
   ]
  },
  {
   "cell_type": "code",
   "execution_count": 2,
   "id": "62a8d65d",
   "metadata": {},
   "outputs": [],
   "source": [
    "log = pd.read_excel('iris_clowder_log_with_metadata_20220729_jwilli29.xlsx')\n",
    "iris = pd.read_excel('iris_assessment_table_unique_names_20220721.xlsx')"
   ]
  },
  {
   "cell_type": "code",
   "execution_count": 24,
   "id": "2857f357",
   "metadata": {
    "scrolled": true
   },
   "outputs": [],
   "source": [
    "for i in range(3, len(log)):\n",
    "    # ignore thumbs.db\n",
    "    if i == 1101:\n",
    "        continue\n",
    "    # get document_name from origPath \n",
    "    path = log.loc[i, 'origPath']\n",
    "    log.loc[i, 'document_name'] = path.split('\\\\')[-1]\n",
    "    \n",
    "    names = iris['Chemical Name'].tolist()\n",
    "    # check the structure of the document name and extract it accordingly\n",
    "    if bool(re.fullmatch(r'.*.pdf', path)) == True:\n",
    "        name = path.split('_')[1]\n",
    "    else:\n",
    "        name = path.split('\\\\')[-1][:-4]\n",
    "        \n",
    "    # add the chemical name to log\n",
    "    log.loc[i, 'chemical_name'] = name\n",
    "    # find the CAS number in iris and add that to log\n",
    "    log.loc[i, 'casrn'] = iris.loc[names.index(name), 'CASRN']\n",
    "    # grab the URL from iris and add it to log\n",
    "    if bool(re.search('_summary_', path)):\n",
    "        log.loc[i, 'URL'] = iris.loc[names.index(name), 'IRIS Summary URL']\n",
    "    else:\n",
    "        log.loc[i, 'URL'] = iris.loc[names.index(name), 'Chemical URL']\n",
    "\n",
    "log['source_name'] = 'IRIS' \n",
    "log['clowder_id'] = log['uuid']"
   ]
  },
  {
   "cell_type": "code",
   "execution_count": 25,
   "id": "3dc0e07f",
   "metadata": {},
   "outputs": [],
   "source": [
    "log.to_excel('iris_document_map_2022_08_01.xlsx', index = False)"
   ]
  }
 ],
 "metadata": {
  "kernelspec": {
   "display_name": "Python 3 (ipykernel)",
   "language": "python",
   "name": "python3"
  },
  "language_info": {
   "codemirror_mode": {
    "name": "ipython",
    "version": 3
   },
   "file_extension": ".py",
   "mimetype": "text/x-python",
   "name": "python",
   "nbconvert_exporter": "python",
   "pygments_lexer": "ipython3",
   "version": "3.9.12"
  }
 },
 "nbformat": 4,
 "nbformat_minor": 5
}
