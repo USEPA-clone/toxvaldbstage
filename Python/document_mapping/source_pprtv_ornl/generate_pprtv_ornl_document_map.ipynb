{
 "cells": [
  {
   "cell_type": "code",
   "execution_count": 104,
   "id": "c9f1ecd2",
   "metadata": {},
   "outputs": [],
   "source": [
    "import numpy as np\n",
    "import pandas as pd\n",
    "import time as t\n",
    "from pdfminer.high_level import extract_text\n",
    "\n",
    "\n",
    "df = pd.read_excel(r\"L:\\PRIV\\ToxValDB\\Document Mapping\\0 - To Do\\special_consideration\\source_pprtv_ornl\\pprtv_ornl_document_map_08032022_mmille16.xlsx\")\n",
    "#First, make additional columns for document map fields\n",
    "string = [\"\" for x in range (len(df))]\n",
    "df['chemical_name'] = string\n",
    "df['casrn'] = string\n",
    "df['source_name'] = string\n",
    "df['document_name'] = string\n",
    "df['clowder_id'] = string\n"
   ]
  },
  {
   "cell_type": "code",
   "execution_count": 105,
   "id": "f2526788",
   "metadata": {},
   "outputs": [],
   "source": [
    "#Now that our dataframe is initialized with all necessary columns, lets fill in the easy stuff first.\n",
    "#Some info is a repeat of what appeared when the clowder log was first made or when metadata file was created.\n",
    "#These fields are the source_name, document_name, and clowder_id fields.\n",
    "#Just copy paste them over into the appropriate columns.\n",
    "\n",
    "for i in range(3,len(df)):\n",
    "    df.loc[i,'document_name'] = df.loc[i,'File Name'] #Added metadata\n",
    "    df.loc[i,'clowder_id'] = df.loc[i,'uuid'] #Original from clowder log creation\n",
    "    df.loc[i,'source_name'] = 'PPRTV ORNL' #Added metadata"
   ]
  },
  {
   "cell_type": "code",
   "execution_count": 106,
   "id": "371d1402",
   "metadata": {},
   "outputs": [],
   "source": [
    "#Next lets do the chemical names. I did this plenty of times when getting metadata so I will just copy over that script.\n",
    "#Chemical names are in the file names. We just need to pull them out.\n",
    "#For pdfs, chemical name is between 'ornl' and 'summary'\n",
    "#For pngs, chemical name is between 'ornl' and 'webpage'\n",
    "\n",
    "for i in range(3,len(df)):\n",
    "    file_name = df.loc[i,'File Name']\n",
    "    if '.pdf' in file_name:\n",
    "        chem_start = file_name.index('ornl')+5\n",
    "        chem_end = file_name.index('summary')-1\n",
    "    if '.png' in file_name:\n",
    "        chem_start = file_name.index('ornl')+5\n",
    "        chem_end = file_name.index('webpage')-1\n",
    "    chem_name = file_name[chem_start:chem_end]\n",
    "    df.loc[i,'chemical_name'] = chem_name"
   ]
  },
  {
   "cell_type": "code",
   "execution_count": null,
   "id": "90efa506",
   "metadata": {},
   "outputs": [],
   "source": [
    "#Lastly we look for casrn numbers. We can use pdf text scraping for this since we have access to file names\n",
    "#Typically casrns are located on the front page but some chemicals only have \"various casrns.\n",
    "#Some pdfs also pertain to multiple chemicals.\n",
    "#Lets pick one that have several known casrns and see if we can write a script to accomplish this task.\n",
    "\n",
    "#First, get the text. Then ignore if it has \"various\" or \"multiple\".\n",
    "#Find the chemical name and all regex matches\n",
    "#Look for a regex match after the chemical name but before the index of any additional matches\n",
    "from pdfminer.high_level import extract_text\n",
    "from pdfminer.high_level import extract_pages\n",
    "import re\n",
    "\n",
    "i = 238\n",
    "#Name of file to open\n",
    "file_name = df.loc[i,'File Name']\n",
    "#Name of associated chemical\n",
    "chemical_name = df.loc[i,'chemical_name']\n",
    "\n",
    "#Some chemical names have their order switched. Not sure about chemical naming but this seemed to fix it some of the time\n",
    "if chemical_name[-1] == '-':\n",
    "    start = chemical_name[chemical_name.index(','):]\n",
    "    end = chemical_name[0:-4]\n",
    "    chemical_name = start+end\n",
    "\n",
    "\n",
    "#Location of pdf files\n",
    "file_path = \"L:\\\\PRIV\\\\ToxValDB\\\\Document Webscrape\\\\pprtv_ornl\\\\output\\\\support_pdfs\\\\\"\n",
    "\n",
    "#Looking only at the first page of text with no extra white space nor new lines for the casrn numbers for now\n",
    "text = extract_text(file_path+file_name, page_numbers = [0])\n",
    "text = \" \".join(text.split())\n",
    "#print(chemical_name)\n",
    "#Putting the text in all lower case to avoid capitalization issues in the future\n",
    "search_text = text.lower()\n",
    "\n",
    "#Find the index of the start of the chemical name\n",
    "chem_index = search_text.index(chemical_name.lower())\n",
    "\n",
    "#Initialize a counter to help us stop at the correct casrn number\n",
    "counter = 0\n",
    "\n",
    "#Find the location of all substrings of the form (numbers)-(numbers)-(numbers)\n",
    "match = re.findall(r'\\d*-\\d*-\\d*',text)\n",
    "#print(match)\n",
    "\n",
    "\n",
    "for string in match:\n",
    "#Find the index of each match substring    \n",
    "    loc = search_text.index(string)\n",
    "#Once the index of the substring is larger than the index of our chemical, we can stop. We have found the chemicals casrn\n",
    "    if loc > chem_index and counter == 0:\n",
    "        counter += 1\n",
    "        cas = string\n",
    "\n"
   ]
  },
  {
   "cell_type": "code",
   "execution_count": null,
   "id": "7fdd18d2",
   "metadata": {},
   "outputs": [],
   "source": [
    "#Save the dataframe as an excel file\n",
    "out_path = r\"L:\\PRIV\\ToxValDB\\Document Mapping\\0 - To Do\\special_consideration\\source_pprtv_ornl\\pprtv_ornl_document_map_in_progress_mmille16.xlsx\"\n",
    "with pd.ExcelWriter(out_path) as writer:\n",
    "    df.to_excel(writer, index = False)"
   ]
  },
  {
   "cell_type": "code",
   "execution_count": 107,
   "id": "cafeb8f1",
   "metadata": {},
   "outputs": [
    {
     "name": "stdout",
     "output_type": "stream",
     "text": [
      "casrn does not appear on the title page for Hexane, Commercial\n",
      "casrn does not appear on the title page for Methylcyclohexylamine, n-\n",
      "casrn does not appear on the title page for Midrange Aliphatic Hydrocarbon Streams\n",
      "casrn does not appear on the title page for Thallium (I) Nitrate\n",
      "casrn does not appear on the title page for Thallium (Soluble Salts)\n",
      "casrn does not appear on the title page for Thallium Acetate\n",
      "casrn does not appear on the title page for Thallium Carbonate\n",
      "casrn does not appear on the title page for Thallium Chloride\n",
      "casrn does not appear on the title page for Thallium Sulfate\n"
     ]
    }
   ],
   "source": [
    "#Chemical names in pdf can vary quite a bit and I am not well versed enough in the chemistry to know the difference in naming\n",
    "#Before doing too much work trying to fix problems, lets find the carns for the easy chemicals\n",
    "#Lets, for now, ignore any papers that have \"various\" in their casrn section or have multiple casrns for multiple chemicals\n",
    "\n",
    "\n",
    "for i in range(3,len(df)):\n",
    "#Pull out the constant file name and chemical name and store. We will need these\n",
    "    file_name = df.loc[i,'File Name']\n",
    "    chemical_name = df.loc[i,'chemical_name']\n",
    "    if '.png' in file_name: #Ignore pngs for now\n",
    "        continue\n",
    "#Extract the text from the support pdf cover page without newlines, white space, or capital letters.\n",
    "    text = extract_text(file_path+file_name, page_numbers = [0])\n",
    "    text = \" \".join(text.split())\n",
    "    text = text.lower()\n",
    "    if 'various' in text or 'multiple' in text: #Ignore 'various' or 'multiple' casrn cover pages\n",
    "        continue\n",
    "    if text.count('casrn') > 1: #Ignore any papers with 'casrn' on the cover more than once\n",
    "        continue\n",
    "    if text.count('casrn') == 0: #If the cover does not have a casrn at all, thats its own deal\n",
    "        print('casrn does not appear on the title page for '+ chemical_name)\n",
    "        continue\n",
    "#Find any strings of numbers that follow the pattern of a casrn. Note: this also pulls out the date\n",
    "    match = re.findall(r'\\d*-\\d*-\\d*',text)\n",
    "#See if you can find the word casrn\n",
    "    try:\n",
    "        cas_index = text.index('casrn')\n",
    "        counter = 0\n",
    "        for string in match:\n",
    "#Look through the matched number strings and see which one starts right after 'casrn' starts. That is the casrn we are looking for\n",
    "            loc = text.index(string)\n",
    "            if loc > cas_index and counter == 0:\n",
    "                counter += 1\n",
    "                casrn = string\n",
    "#Fill in the casrn section of the dataframe\n",
    "        df.loc[i,'casrn'] = casrn\n",
    "    except:\n",
    "#Take stock of the chemical names we didn't find matches for but keep the list going\n",
    "        print('something went wrong finding the casrn for '+ chemical_name)\n",
    "        continue"
   ]
  },
  {
   "cell_type": "code",
   "execution_count": 124,
   "id": "cccfe637",
   "metadata": {},
   "outputs": [
    {
     "name": "stdout",
     "output_type": "stream",
     "text": [
      "could not find Ammonium polyphosphate (APP) on first page of support pdf\n",
      "could not find Dichloro-2-butene, 1,4- on first page of support pdf\n",
      "could not find Dichloro-2-butene, cis-1,4- on first page of support pdf\n",
      "could not find Dichloro-2-butene, trans-1,4- on first page of support pdf\n",
      "could not find Hexane, Commercial on first page of support pdf\n",
      "could not find Methoxyethanol Acetate, 2- on first page of support pdf\n",
      "could not find Methoxyethanol, 2- on first page of support pdf\n",
      "could not find Methylcyclohexylamine, n- on first page of support pdf\n",
      "could not find Perfluorobutanesulfonic acid (PFBS) on first page of support pdf\n",
      "could not find Propylene Glycol Monoethyl Ether, alpha- on first page of support pdf\n",
      "could not find Propylene Glycol Monoethyl Ether, beta- on first page of support pdf\n",
      "could not find Samarium Chloride (Stable, Nonradioactive) on first page of support pdf\n",
      "could not find Samarium Nitrate (Stable, Nonradioactive) on first page of support pdf\n",
      "could not find Thallium (Soluble Salts) on first page of support pdf\n",
      "could not find Thallium Acetate on first page of support pdf\n",
      "could not find Thallium Carbonate on first page of support pdf\n",
      "could not find Thallium Chloride on first page of support pdf\n",
      "could not find Thallium Sulfate on first page of support pdf\n",
      "could not find Trichloroaniline, 2,4,6- on first page of support pdf\n"
     ]
    }
   ],
   "source": [
    "#Sometimes the word 'casrn' isn't there, but the casrns are listed after the chemical names.\n",
    "#This was common when groups of chemicals shared a pdf.\n",
    "#Now lets look at the ones we didn't find the easy carns for. Maybe they were a part of a group of chemicals sharing a support pdf file\n",
    "#Next step is to look for the casrn number pattern immediately after a chemical name\n",
    "#To do that: find the index of a chemical name, find the indicies of casrns, then pick the casrn immediately after the chemical name index\n",
    "\n",
    "\n",
    "for i in range(3,len(df)):\n",
    "    if df.loc[i,'casrn'] == \"\": #Only look for the ones we haven't found casrns for. Don't undo the work we just did\n",
    "#Again, we need file and chemical names. Extract them and save them for later\n",
    "        file_name = df.loc[i,'File Name']\n",
    "        chemical_name = df.loc[i,'chemical_name']\n",
    "        if '.png' in file_name: #Ignore .pngs for now.\n",
    "            continue\n",
    "#Extract the text from the first page of the support pdf with no newlines, whitespace, or capital letters\n",
    "        text = extract_text(file_path+file_name,page_numbers = [0])\n",
    "        text = \" \".join(text.split())\n",
    "        text = text.lower()\n",
    "        if 'various' in text or 'multiple' in text: #Ignore if the cover has 'various' or 'multiple' casrn\n",
    "            continue\n",
    "#Find strings of numbers that match that of a casrn. Note: will consider the date as a match.\n",
    "        match = re.findall(r'\\d*-\\d*-\\d*',text)\n",
    "        counter = 0\n",
    "        try:\n",
    "#Now try looking for the name of the chemical instead of the word 'casrn'\n",
    "            chem_index = text.index(chemical_name.lower())\n",
    "            for string in match:\n",
    "#Same deal as above. Look through the list of matches for their starting indicies and stop once the start index > that of the chemical name\n",
    "                loc = text.index(string)\n",
    "                if loc > chem_index and counter == 0:\n",
    "                    counter += 1 \n",
    "                    casrn = string\n",
    "#Fill in the casrn section of the dataframe\n",
    "            df.loc[i,'casrn'] = casrn\n",
    "        except:\n",
    "#Keep track of exceptions\n",
    "            print('could not find '+chemical_name+' on first page of support pdf')\n",
    "            continue\n",
    "            \n",
    "        "
   ]
  },
  {
   "cell_type": "code",
   "execution_count": 126,
   "id": "3bd07167",
   "metadata": {},
   "outputs": [
    {
     "name": "stdout",
     "output_type": "stream",
     "text": [
      "could not find Ammonium polyphosphate (APP) on the first page of support pdf\n",
      "could not find Perfluorobutanesulfonic acid (PFBS) on the first page of support pdf\n",
      "could not find Thallium (Soluble Salts) on the first page of support pdf\n",
      "could not find Thallium Acetate on the first page of support pdf\n",
      "could not find Thallium Carbonate on the first page of support pdf\n",
      "could not find Thallium Chloride on the first page of support pdf\n",
      "could not find Thallium Sulfate on the first page of support pdf\n"
     ]
    }
   ],
   "source": [
    "#Another issue is the order of some chemicals with commas in the name.\n",
    "    #Ex: Dichloro-2-butene,1,4- appears instead as 1,4-dichloro-2-butene in the paper\n",
    "#I don't know enough chemistry to know the official rule for these naming conventions but lets try just breaking the chemical name\n",
    "#at the first comma and looking instead for the string of numbers to the right of that comma. That will indicate the start of the chemical name\n",
    "\n",
    "for i in range(3,len(df)):\n",
    "    if df.loc[i,'casrn'] == \"\": #Do not undo the work we already did\n",
    "#Save the file and chemical names for future use\n",
    "        file_name = df.loc[i,'File Name']\n",
    "        chemical_name = df.loc[i,'chemical_name']\n",
    "        if '.png' in file_name: #Skip .png files for now\n",
    "            continue\n",
    "        text = extract_text(file_path+file_name, page_numbers = [0])\n",
    "        text = \" \".join(text.split())\n",
    "        text = text.lower()\n",
    "        if 'various' in text or 'multiple' in text:\n",
    "#The comma names seem to be the last of the problems that are best to automate. The rest will be done manually.\n",
    "#Fill in 'various' for the 'various' casrn chemicals now so I don't have to do that manually but don't do anything else with them.\n",
    "            df.loc[i,'casrn'] = 'Various'\n",
    "            continue\n",
    "#Look for strings of numbers that match the pattern of a casrn. Note: this also considers the date a match\n",
    "        match = re.findall(r'\\d*-\\d*-\\d*',text)\n",
    "        counter = 0\n",
    "        try:\n",
    "#Break the chemical name at the first comma and save everything to the right. We will look for that string now.\n",
    "            comma = chemical_name.index(',') + 1\n",
    "            right = chemical_name[comma:]\n",
    "            chem_index = text.index(right.lower())\n",
    "            for string in match:\n",
    "#Same process as used before. Look for where the start of a casrn number is and stop looking once that start is larger than the beginning of the chemical name\n",
    "                loc = text.index(string)\n",
    "                if loc > chem_index and counter == 0:\n",
    "                    counter += 1\n",
    "                    casrn = string\n",
    "            df.loc[i,'casrn'] = casrn\n",
    "        except:\n",
    "#In looking through exceptions, some had greek words like 'alpha' or 'beta' to describe isomers. These did not follow the pattern above as strictly\n",
    "#Instead, we look for the last word instead of everything to the right of the comma and match that to the cover page\n",
    "    #Example of this was chemical name: Propylene Glycol Monoehtyl Ether, alpha-.\n",
    "    #Appears on title page as: Propylene Glycol Monethyl Ether (alpha isomer *casrn* beta isomer *casrn*)\n",
    "            try:\n",
    "#Find the comma and look only for the last word to the right of that comma\n",
    "                comma = chemical_name.index(',') + 1\n",
    "                right = chemical_name[comma:]\n",
    "                right_word = re.findall(r'\\w+',right)[0]\n",
    "#Find where that last word starts\n",
    "                chem_index = text.index(right_word.lower())\n",
    "                for string in match:\n",
    "#Look through the list of casrn matches until its starting index is bigger than the starting index of the chemical\n",
    "                    loc = text.index(string)\n",
    "                    if loc > chem_index and counter == 0:\n",
    "                        counter += 1\n",
    "                        casrn = string\n",
    "#Plug in the casrn to the dataframe\n",
    "                df.loc[i,'casrn'] = casrn\n",
    "            except:\n",
    "#These are the final stragglers that I will find manually. Not many, only 7 chemicals.\n",
    "                print('could not find ' + chemical_name+ ' on the first page of support pdf')"
   ]
  },
  {
   "cell_type": "code",
   "execution_count": 127,
   "id": "ad705c82",
   "metadata": {},
   "outputs": [
    {
     "name": "stdout",
     "output_type": "stream",
     "text": [
      "7\n"
     ]
    }
   ],
   "source": [
    "#Look for where blank casrn numbers are (only looking at .pdfs since chemical names repeat for the .pngs)\n",
    "blank = 0\n",
    "for i in range(len(df)):\n",
    "    file_name = df.loc[i,'File Name']\n",
    "    if '.pdf' in str(file_name):\n",
    "        if df.loc[i,'casrn'] == \"\":\n",
    "            blank = blank + 1\n",
    "print(blank)"
   ]
  },
  {
   "cell_type": "code",
   "execution_count": 128,
   "id": "6bcb4a5e",
   "metadata": {},
   "outputs": [],
   "source": [
    "chemical_names = []\n",
    "casrns = []\n",
    "#To make life a bit easier, I will save the chemical identifying information to a different excel sheet\n",
    "#Remember, chemicals will appear twice in different locations. To save time: first, create a dataframe with the casrn and names I have found\n",
    "#Then save the dataframe to an excel sheet\n",
    "#Finally, write a script to match names and fill in casrns for me.\n",
    "#This way, I fill in the identifier file, save it, and call it as a different dataframe for the computer to look through\n",
    "#This also makes manual spot checking of casrn numebrs a bit easier.\n",
    "for i in range(3,len(df)):\n",
    "    file_name = df.loc[i,'File Name']\n",
    "    if '.pdf' in file_name:\n",
    "        chemical_names.append(df.loc[i,'chemical_name'])\n",
    "        casrns.append(df.loc[i,'casrn'])\n",
    "d = {'chemical_names':chemical_names, 'casrn': casrns}        \n",
    "chemical_ids = pd.DataFrame(d)"
   ]
  },
  {
   "cell_type": "code",
   "execution_count": 130,
   "id": "124d73b3",
   "metadata": {},
   "outputs": [],
   "source": [
    "#Write an excel file for the chemical casrn key. This is for easier spot checking of casrn numbers and to assit manual\n",
    "#filling of carns\n",
    "out_path = r\"L:\\PRIV\\ToxValDB\\Document Mapping\\0 - To Do\\special_consideration\\source_pprtv_ornl\\chemical_ids_key.xlsx\"\n",
    "with pd.ExcelWriter(out_path) as writer:\n",
    "    chemical_ids.to_excel(writer, index = False)"
   ]
  },
  {
   "cell_type": "code",
   "execution_count": 134,
   "id": "33448340",
   "metadata": {},
   "outputs": [],
   "source": [
    "#Fill in the casrns from the key we just made\n",
    "key = pd.read_excel(r\"L:\\PRIV\\ToxValDB\\Document Mapping\\0 - To Do\\special_consideration\\source_pprtv_ornl\\chemical_ids_key.xlsx\")\n",
    "for i in range (3,len(df)):\n",
    "    chemical_name = df.loc[i,'chemical_name']\n",
    "    place = key[key['chemical_names'] == chemical_name].index.values\n",
    "    df.loc[i,'casrn'] = key.loc[place[0],'casrn']"
   ]
  },
  {
   "cell_type": "code",
   "execution_count": 138,
   "id": "0fccc807",
   "metadata": {},
   "outputs": [
    {
     "name": "stdout",
     "output_type": "stream",
     "text": [
      "0\n"
     ]
    }
   ],
   "source": [
    "#Check to see where there are blank casrn numbers (if any)\n",
    "blanks = 0\n",
    "for i in range(3,len(df)):\n",
    "    if df.loc[i,'casrn'] == \"\":\n",
    "        print(df.loc[i,'chemical_name'])\n",
    "        blanks += 1\n",
    "print(blanks)"
   ]
  },
  {
   "cell_type": "code",
   "execution_count": 139,
   "id": "8d9106e5",
   "metadata": {},
   "outputs": [],
   "source": [
    "#Save the final dataframe as the excel document map file. \n",
    "out_path = r\"L:\\PRIV\\ToxValDB\\Document Mapping\\0 - To Do\\special_consideration\\source_pprtv_ornl\\pprtv_ornl_document_map_08082022_mmille16.xlsx\"\n",
    "with pd.ExcelWriter(out_path) as writer:\n",
    "    df.to_excel(writer, index = False)\n",
    "    \n",
    "    \n",
    "\n",
    "    \n",
    "    \n",
    "#Cells used for testing and brainstorming are below"
   ]
  },
  {
   "cell_type": "markdown",
   "id": "ee37da63",
   "metadata": {},
   "source": [
    "Cells for brainstorming and testing since using new packages like pdfminer six"
   ]
  },
  {
   "cell_type": "code",
   "execution_count": 122,
   "id": "bc72be70",
   "metadata": {},
   "outputs": [
    {
     "name": "stdout",
     "output_type": "stream",
     "text": [
      "Ammonium Picrate\n",
      "epa/690/r-20/008f | september 2020 | final provisional peer-reviewed toxicity values for picric acid (2,4,6-trinitrophenol) (casrn 88-89-1) and ammonium picrate (casrn 131-74-8) u.s. epa office of research and development center for public health and environmental assessment\n",
      "ammonium picrate\n"
     ]
    },
    {
     "data": {
      "text/plain": [
       "144"
      ]
     },
     "execution_count": 122,
     "metadata": {},
     "output_type": "execute_result"
    }
   ],
   "source": [
    "#Testing text extraction from pdfminer six \n",
    "#Testing regex pattern recognition\n",
    "\n",
    "i = 22\n",
    "\n",
    "chemical_name = df.loc[i,'chemical_name']\n",
    "file_name = df.loc[i,'File Name']\n",
    "print(chemical_name)\n",
    "text = extract_text(file_path+file_name, page_numbers = [0])\n",
    "text = \" \".join(text.split())\n",
    "text = text.lower()\n",
    "\n",
    "print(text)\n",
    "print(chemical_name.lower())\n",
    "\n",
    "text.index(chemical_name.lower())\n",
    "#comma = chemical_name.index(',') + 1\n",
    "#right = chemical_name[comma:]\n",
    "#re.findall(r'\\w+',right)[0]"
   ]
  },
  {
   "cell_type": "code",
   "execution_count": 133,
   "id": "4eacaa89",
   "metadata": {},
   "outputs": [
    {
     "data": {
      "text/plain": [
       "131"
      ]
     },
     "execution_count": 133,
     "metadata": {},
     "output_type": "execute_result"
    }
   ],
   "source": [
    "#Testing section of code to find the index of a string in a dataframe\n",
    "\n",
    "i = 134\n",
    "key = pd.read_excel(r\"L:\\PRIV\\ToxValDB\\Document Mapping\\0 - To Do\\special_consideration\\source_pprtv_ornl\\chemical_ids_key.xlsx\")\n",
    "chemical_name = df.loc[i,'chemical_name']\n",
    "place = key[key['chemical_names'] == chemical_name].index.values\n",
    "\n",
    "place[0]"
   ]
  },
  {
   "cell_type": "code",
   "execution_count": null,
   "id": "1681b546",
   "metadata": {},
   "outputs": [],
   "source": [
    "#Brainstorming solutions to problematic chemical names\n",
    "\n",
    "i = 238\n",
    "#Name of file to open\n",
    "file_name = df.loc[i,'File Name']\n",
    "#Name of associated chemical\n",
    "chemical_name = df.loc[i,'chemical_name']\n",
    "\n",
    "#Some chemical names have their order switched. Not sure about chemical naming but this seemed to fix it some of the time\n",
    "if chemical_name[-1] == '-':\n",
    "    comma = chemical_name.index(',')+1\n",
    "    start = chemical_name[comma:]\n",
    "    end = chemical_name[0:comma-1]\n",
    "    chemical_name = start+end\n",
    "print(chemical_name)"
   ]
  }
 ],
 "metadata": {
  "celltoolbar": "Edit Metadata",
  "kernelspec": {
   "display_name": "Python 3 (ipykernel)",
   "language": "python",
   "name": "python3"
  },
  "language_info": {
   "codemirror_mode": {
    "name": "ipython",
    "version": 3
   },
   "file_extension": ".py",
   "mimetype": "text/x-python",
   "name": "python",
   "nbconvert_exporter": "python",
   "pygments_lexer": "ipython3",
   "version": "3.9.12"
  }
 },
 "nbformat": 4,
 "nbformat_minor": 5
}
