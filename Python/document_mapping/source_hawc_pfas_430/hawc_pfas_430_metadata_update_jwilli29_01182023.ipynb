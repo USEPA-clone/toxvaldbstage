{
 "cells": [
  {
   "cell_type": "code",
   "execution_count": 95,
   "id": "b514ad08",
   "metadata": {},
   "outputs": [],
   "source": [
    "import pandas as pd\n",
    "from pyclowderext import pyclowderext as pcx\n",
    "\n",
    "# set parameters for API\n",
    "base_url = 'https://clowder.edap-cluster.com'\n",
    "api_key = YOUR_API_KEY\n",
    "user_ID = YOUR_USER_ID\n",
    "\n",
    "# load in the documents to be updated and initialize their metadata fields\n",
    "docs = pd.read_excel('metadata update/hawc_pfas_430_update_clowder_metadata_20221121.xlsx')\n",
    "docs[['File Name', 'URL', 'DOI', 'HERO ID', 'Source', 'Subsource', 'Year', 'Author', 'Study Name', 'DSSTOX Structure ID']]=''"
   ]
  },
  {
   "cell_type": "code",
   "execution_count": 105,
   "id": "3a545845",
   "metadata": {
    "scrolled": true
   },
   "outputs": [
    {
     "name": "stdout",
     "output_type": "stream",
     "text": [
      "...getting metadata for file: 61a7d57ce4b0993a393832d5\n",
      "...getting metadata for file: 61a10e4ae4b0993a3938014d\n",
      "...getting metadata for file: 61a10e4ae4b0993a39380151\n",
      "...getting metadata for file: 61a10e4ae4b0993a39380161\n",
      "...getting metadata for file: 61a10e4ae4b0993a39380163\n",
      "...getting metadata for file: 61a10e4ae4b0993a39380165\n",
      "...getting metadata for file: 61a10e4be4b0993a3938016e\n",
      "...getting metadata for file: 61a10e4be4b0993a39380171\n",
      "...getting metadata for file: 61a10e4be4b0993a39380173\n",
      "...getting metadata for file: 61a10e4be4b0993a39380175\n",
      "...getting metadata for file: 61a10e4be4b0993a39380177\n",
      "...getting metadata for file: 61a10e4be4b0993a3938017d\n",
      "...getting metadata for file: 61a10e4be4b0993a3938017f\n",
      "...getting metadata for file: 61a7d57ce4b0993a393832d8\n",
      "...getting metadata for file: 61a7d57ce4b0993a393832db\n",
      "...getting metadata for file: 61a7d57de4b0993a393832de\n",
      "...getting metadata for file: 61a10e4be4b0993a3938018d\n",
      "...getting metadata for file: 61fabd22e4b04a563fdc9b00\n",
      "...getting metadata for file: 61a10e4be4b0993a39380195\n",
      "...getting metadata for file: 61a7d57de4b0993a393832ec\n",
      "...getting metadata for file: 61a10e4be4b0993a3938019a\n",
      "...getting metadata for file: 61a10e4be4b0993a3938019d\n",
      "...getting metadata for file: 61a7d585e4b0993a393832f4\n"
     ]
    }
   ],
   "source": [
    "for row, clowder_id in enumerate(docs['clowder_id']):\n",
    "    # grab the metadata from clowder\n",
    "    x = pcx.get_file_metadata(clowder_id, base_url, api_key)\n",
    "    \n",
    "    # check to see which item in the list of metadata contains the auto-generated hashes and use the other one\n",
    "    if 'sha256' in x[0]['@context'][1]:\n",
    "        # convert the metadata into a list\n",
    "        metadata = [x[1]['content'][i] for i in x[1]['content']]\n",
    "    else:\n",
    "        metadata = [x[0]['content'][i] for i in x[0]['content']]\n",
    "        \n",
    "    # add the metadata to our docs file\n",
    "    for i in range(10):\n",
    "        docs.iloc[row, i+3] = metadata[i]"
   ]
  },
  {
   "cell_type": "code",
   "execution_count": 122,
   "id": "da20f1e1",
   "metadata": {},
   "outputs": [],
   "source": [
    "# replace the old study names with the new study names\n",
    "docs['Study Name'] = docs['title']"
   ]
  },
  {
   "cell_type": "code",
   "execution_count": 125,
   "id": "26fd73a7",
   "metadata": {},
   "outputs": [
    {
     "name": "stdout",
     "output_type": "stream",
     "text": [
      "...pushing metadata to files...\n"
     ]
    }
   ],
   "source": [
    "# remove extraneous columns and save the new map\n",
    "metadata_by_clowder_id = docs.drop(columns = ['title', 'note'])\n",
    "metadata_by_clowder_id.to_excel('hawc_pfas_430_metadata_update_jwilli29_01192023.xlsx', index = False)\n",
    "\n",
    "# upload new metadata to files, skipping over column 2 because it was the wrong document\n",
    "pcx.upload_file_metadata(metadata_by_clowder_id.drop([2]),\n",
    "                        'clowder_id',\n",
    "                        user_ID,\n",
    "                        base_url,\n",
    "                        api_key)"
   ]
  }
 ],
 "metadata": {
  "kernelspec": {
   "display_name": "Python 3 (ipykernel)",
   "language": "python",
   "name": "python3"
  },
  "language_info": {
   "codemirror_mode": {
    "name": "ipython",
    "version": 3
   },
   "file_extension": ".py",
   "mimetype": "text/x-python",
   "name": "python",
   "nbconvert_exporter": "python",
   "pygments_lexer": "ipython3",
   "version": "3.9.12"
  }
 },
 "nbformat": 4,
 "nbformat_minor": 5
}
