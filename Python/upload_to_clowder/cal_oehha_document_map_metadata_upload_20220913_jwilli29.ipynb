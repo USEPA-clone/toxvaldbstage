{
 "cells": [
  {
   "cell_type": "code",
   "execution_count": 36,
   "id": "3d14f6d6",
   "metadata": {},
   "outputs": [],
   "source": [
    "import selenium, requests, time, os, re\n",
    "import pandas as pd\n",
    "from selenium import webdriver\n",
    "from selenium.webdriver.chrome.service import Service\n",
    "from selenium.webdriver.common.by import By\n",
    "from selenium.webdriver.common.keys import Keys\n",
    "from tqdm.notebook import tqdm\n",
    "from pyclowderext import pyclowderext"
   ]
  },
  {
   "cell_type": "code",
   "execution_count": 7,
   "id": "7cc6a32f",
   "metadata": {},
   "outputs": [],
   "source": [
    "# Read in the COMPTOX DSSTox/CAS key.\n",
    "dsst_to_cas = pd.read_csv('DSSTox_Identifiers_and_CASRN_2021r1.csv')\n",
    "\n",
    "# Read in the Clowder log\n",
    "log = pd.read_excel('cal_oehha_upload_clowder_log.xlsx')\n",
    "log['File Name'] = ''\n",
    "log['URL'] = ''\n",
    "log['DOI'] = ''\n",
    "log['HERO ID'] = ''\n",
    "log['Source'] = 'CAL_OEHHA'\n",
    "log['Year'] = ''\n",
    "log['Author'] = 'California Environmental Protection Agency'\n",
    "log['Study Name'] = ''\n",
    "log['DSSTox Structure ID'] = ''\n",
    "log['CASRN'] = ''\n",
    "\n",
    "userid = '<your_clowder_user_id>'\n",
    "apikey = '<your_clwoder_api_key_here>'"
   ]
  },
  {
   "cell_type": "code",
   "execution_count": 9,
   "id": "c596d509",
   "metadata": {},
   "outputs": [],
   "source": [
    "def t():\n",
    "    time.sleep(0.25)"
   ]
  },
  {
   "cell_type": "code",
   "execution_count": 32,
   "id": "9781a49a",
   "metadata": {},
   "outputs": [
    {
     "data": {
      "application/vnd.jupyter.widget-view+json": {
       "model_id": "f6cab47c293f4a2d9cc454dd03961415",
       "version_major": 2,
       "version_minor": 0
      },
      "text/plain": [
       "  0%|          | 0/2248 [00:00<?, ?it/s]"
      ]
     },
     "metadata": {},
     "output_type": "display_data"
    }
   ],
   "source": [
    "Options = webdriver.ChromeOptions()\n",
    "Options.headless = True \n",
    "s=Service(r'C:\\Users\\JWILLI29\\OneDrive - Environmental Protection Agency (EPA)\\Profile\\Downloads\\chromedriver (2).exe')\n",
    "\n",
    "for i in tqdm(range(len(log))):\n",
    "    # don't bother re-doing something that's already been done!\n",
    "    if log['CASRN'].iloc[i] != '':\n",
    "        continue\n",
    "    \n",
    "    filename = log['subDir2'].iloc[i]\n",
    "    log['File Name'].iloc[i] = filename\n",
    "    \n",
    "    chemical_name = filename.split('_')[2]\n",
    "    \n",
    "    url = f'https://oehha.ca.gov/chemicals/{chemical_name}'\n",
    "    log['URL'].iloc[i] = url\n",
    "    \n",
    "    # pull up the OEHHA chemical page\n",
    "    driver = webdriver.Chrome(service=s, options = Options)\n",
    "    driver.get(url)\n",
    "    t()\n",
    "    \n",
    "    try:\n",
    "        log['CASRN'].iloc[i] = driver.find_element(By.XPATH, '//*[@id=\"block-system-main\"]/div/div/div[2]').text.split('\\n')[1]\n",
    "    except:\n",
    "        log['CASRN'].iloc[i] = ''\n",
    "    t()\n",
    "    \n",
    "    driver.quit()"
   ]
  },
  {
   "cell_type": "code",
   "execution_count": 77,
   "id": "8c7791fa",
   "metadata": {},
   "outputs": [],
   "source": [
    "log.to_excel('cal_oehha_log_with_metadata.xlsx')"
   ]
  },
  {
   "cell_type": "code",
   "execution_count": 61,
   "id": "64b9e852",
   "metadata": {},
   "outputs": [
    {
     "data": {
      "application/vnd.jupyter.widget-view+json": {
       "model_id": "43bff43dfbce4457bdf7d3080fc03715",
       "version_major": 2,
       "version_minor": 0
      },
      "text/plain": [
       "  0%|          | 0/2248 [00:00<?, ?it/s]"
      ]
     },
     "metadata": {},
     "output_type": "display_data"
    }
   ],
   "source": [
    "for i in tqdm(range(len(log))):\n",
    "    try:\n",
    "        cas = log['CASRN'].iloc[i].replace(' ', '-')\n",
    "        cas_index = dsst_to_cas['casrn'].tolist().index(cas)\n",
    "        log['DSSTox Structure ID'].iloc[i] = dsst_to_cas['dtxsid'].iloc[cas_index]\n",
    "    except ValueError:\n",
    "        log['DSSTox Structure ID'].iloc[i] = ''\n",
    "    if log['CASRN'].iloc[i] == '[missing]':\n",
    "        log['CASRN'].iloc[i] = ''"
   ]
  },
  {
   "cell_type": "code",
   "execution_count": 68,
   "id": "f1c219b7",
   "metadata": {},
   "outputs": [],
   "source": [
    "uuid = pd.read_excel('cal_oehha_upload_clowder_log.xlsx')['uuid']\n",
    "log['uuid'] = uuid"
   ]
  },
  {
   "cell_type": "code",
   "execution_count": 76,
   "id": "92d93845",
   "metadata": {},
   "outputs": [
    {
     "name": "stdout",
     "output_type": "stream",
     "text": [
      "...pushing metadata to files...\n"
     ]
    }
   ],
   "source": [
    "metadata = log[['uuid', 'File Name', 'URL', 'Source', 'Author', 'DSSTox Structure ID', 'CASRN']]\n",
    "pyclowderext.upload_file_metadata(metadata = metadata, \n",
    "                                  idCol = 'uuid', \n",
    "                                  userID = userid, \n",
    "                                  baseurl = 'https://clowder.edap-cluster.com',\n",
    "                                  apiKey = apikey)"
   ]
  },
  {
   "cell_type": "code",
   "execution_count": 82,
   "id": "378677d0",
   "metadata": {},
   "outputs": [],
   "source": [
    "log = log.rename(columns = {\"uuid\": \"clowder_id\", \"File Name\": \"document_name\"})\n",
    "log.to_excel('source_cal_oehha_document_map.xlsx', index = False)"
   ]
  }
 ],
 "metadata": {
  "kernelspec": {
   "display_name": "Python 3 (ipykernel)",
   "language": "python",
   "name": "python3"
  },
  "language_info": {
   "codemirror_mode": {
    "name": "ipython",
    "version": 3
   },
   "file_extension": ".py",
   "mimetype": "text/x-python",
   "name": "python",
   "nbconvert_exporter": "python",
   "pygments_lexer": "ipython3",
   "version": "3.7.13"
  }
 },
 "nbformat": 4,
 "nbformat_minor": 5
}
