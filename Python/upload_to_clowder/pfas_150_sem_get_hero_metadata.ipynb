{
 "cells": [
  {
   "cell_type": "code",
   "execution_count": 1,
   "id": "8352f0f0",
   "metadata": {},
   "outputs": [],
   "source": [
    "#Script to get metadata and fields from hero website for documents in pfas_150_sem_citations\n",
    "\n",
    "#First lets import the modules that will be needed. Pandas (dataframes and excel sheets), Selenium(webrowser)\n",
    "#Numpy(basic math things), Time (courtesy sleeps for web browser)\n",
    "\n",
    "\n",
    "import pandas as pd\n",
    "import numpy as np\n",
    "import time as t\n",
    "from selenium import webdriver\n",
    "from selenium.webdriver.chrome.service import Service\n",
    "from selenium.webdriver.support.ui import Select\n",
    "from selenium.webdriver.common.by import By"
   ]
  },
  {
   "cell_type": "code",
   "execution_count": 2,
   "id": "9e0f3da6",
   "metadata": {},
   "outputs": [],
   "source": [
    "#Load in a clowder log excel spreadsheet\n",
    "df = pd.read_excel(r\"L:\\PRIV\\ToxValDB\\Upload to Clowder\\source_pfas_150_sem\\clowder_log_source_pfas_150_sem_20220921.xlsx\")"
   ]
  },
  {
   "cell_type": "code",
   "execution_count": 6,
   "id": "014b6360",
   "metadata": {},
   "outputs": [],
   "source": [
    "#Initiate the web browser options and url\n",
    "hero_url = 'https://hero.epa.gov/hero/index.cfm/reference/details/reference_id/'\n",
    "Options = webdriver.ChromeOptions()\n",
    "Options.headless = True\n",
    "s=Service(r'C:\\Users\\mmille16\\chromedriver.exe')\n",
    "driver = webdriver.Chrome(service=s, options = Options)\n",
    "\n",
    "for j in range(1,len(df)):\n",
    "    name = df.loc[j,'subDir1']\n",
    "    hero_id = str(name.replace('HEROID','').replace('.pdf',''))\n",
    "    t.sleep(1)\n",
    "    driver.get(hero_url + hero_id)\n",
    "    labels = driver.find_elements(By.CLASS_NAME, 'label')\n",
    "    fields = driver.find_elements(By.CLASS_NAME, 'field')\n",
    "    for i in range(len(labels)):\n",
    "        raw = labels[i].text\n",
    "        if fields[i].get_attribute('id') == 'abstract_div':\n",
    "            continue\n",
    "        text = fields[i].text\n",
    "        metadata_start = text.index(raw) + len(raw) +1\n",
    "        metadata = text[metadata_start:]\n",
    "        if raw == 'URL':\n",
    "            metadata = metadata.replace('EXIT','')\n",
    "        df.loc[j,raw] = metadata\n",
    "df = df.fillna('N/A')\n",
    "df = df.drop(\"\", axis = 1)"
   ]
  },
  {
   "cell_type": "code",
   "execution_count": 8,
   "id": "94ffc598",
   "metadata": {},
   "outputs": [],
   "source": [
    "#Save the final metadata dataframe to an excel file. While I need to upload the pdfs to clowder first and run this again\n",
    "#it is helpful to look at the metadata in the spreadsheet to check for errors\n",
    "\n",
    "out_path = r\"L:\\PRIV\\ToxValDB\\Upload to Clowder\\source_pfas_150_sem\\pfas_150_sem_clowder_log_metadata_10032022.xlsx\"\n",
    "with pd.ExcelWriter(out_path) as writer:\n",
    "    df.to_excel(writer, index = False)"
   ]
  },
  {
   "cell_type": "markdown",
   "id": "e6448cf1",
   "metadata": {},
   "source": [
    "Testing ideas below here. Above is the final script to create the metadata spreadsheets and save them as xlsx files"
   ]
  },
  {
   "cell_type": "code",
   "execution_count": 36,
   "id": "51e6e2c5",
   "metadata": {},
   "outputs": [],
   "source": [
    "#lets test some ideas for just one document first. The goals for the script are just to add columns to df based on the metadata fields\n",
    "#Then populate those fields for a certain document.\n",
    "\n",
    "#Note: Not all documents have the same metadata fields. At the end of the script we will look for empty cells an populate with N/A\n",
    "#Note: Some documents have the abstract and other larger metadata fields we do not want. We will stop once we hit the word 'abstract' as a field\n",
    "\n",
    "\n",
    "#Initiate the web browser options and url\n",
    "hero_url = 'https://hero.epa.gov/hero/index.cfm/reference/details/reference_id/'\n",
    "Options = webdriver.ChromeOptions()\n",
    "Options.headless = True\n",
    "s=Service(r'C:\\Users\\mmille16\\Documents\\chromedriver.exe')\n",
    "driver = webdriver.Chrome(service=s, options = Options)\n",
    "\n",
    "#Select a hero id from the hero id column\n",
    "j = 12\n",
    "name = df.loc[j,'subDir1']\n",
    "hero_id = str(name.replace('HEROID','').replace('.pdf',''))\n",
    "driver.get(hero_url + hero_id)\n",
    "t.sleep(1)\n",
    "\n",
    "#Check in on the dataframe and find the list of its current metadata fields\n",
    "headers = []\n",
    "check_headers = [] #in case of capitalization differences: we will populate this with the metadata fields in lower case\n",
    "\n",
    "#Get the list of dataframe headers\n",
    "col = df.columns\n",
    "for column in col:\n",
    "    headers.append(column)\n",
    "\n",
    "#Populate the list of headers in lower case\n",
    "for item in headers:\n",
    "    check_headers.append(item.lower())\n",
    "    \n",
    "#Find all the metadata fields titles\n",
    "labels = driver.find_elements(By.CLASS_NAME, 'label')\n",
    "\n",
    "#Find the actual contents of the metadata\n",
    "values = driver.find_elements(By.CLASS_NAME,'field')\n",
    "\n",
    "#Look through all the metadata fields\n",
    "for i in range(len(labels)):\n",
    "    raw = labels[i].text #Bolded titles of metadata fields\n",
    "    header = raw.lower() #Put the titles in lower case. Just in case there are differences in capitalization\n",
    "    if values[i].get_attribute('id') == 'abstract_div': #skip metadata in the abstract section\n",
    "        continue\n",
    "    text = values[i].text\n",
    "    search_text = text.lower()\n",
    "    metadata_start = search_text.rindex(header) + len(header) + 1\n",
    "    metadata = text[metadata_start:]\n",
    "    if header == 'url':\n",
    "        metadata = metadata.replace('EXIT','')\n",
    "    df.loc[j,raw] = metadata\n",
    "#Close the browser once we are done\n",
    "driver.quit()"
   ]
  },
  {
   "cell_type": "code",
   "execution_count": 47,
   "id": "9b316dff",
   "metadata": {},
   "outputs": [
    {
     "data": {
      "text/html": [
       "<div>\n",
       "<style scoped>\n",
       "    .dataframe tbody tr th:only-of-type {\n",
       "        vertical-align: middle;\n",
       "    }\n",
       "\n",
       "    .dataframe tbody tr th {\n",
       "        vertical-align: top;\n",
       "    }\n",
       "\n",
       "    .dataframe thead th {\n",
       "        text-align: right;\n",
       "    }\n",
       "</style>\n",
       "<table border=\"1\" class=\"dataframe\">\n",
       "  <thead>\n",
       "    <tr style=\"text-align: right;\">\n",
       "      <th></th>\n",
       "      <th>origPath</th>\n",
       "      <th>type</th>\n",
       "      <th>rootDir</th>\n",
       "      <th>relPath</th>\n",
       "      <th>maxFolder</th>\n",
       "      <th>subDir0</th>\n",
       "      <th>subDir1</th>\n",
       "      <th>parentPath</th>\n",
       "      <th>parentId</th>\n",
       "      <th>parentType</th>\n",
       "      <th>uuid</th>\n",
       "    </tr>\n",
       "  </thead>\n",
       "  <tbody>\n",
       "    <tr>\n",
       "      <th>1</th>\n",
       "      <td>L:\\PRIV\\ToxValDB\\Upload to Clowder\\To Do\\sourc...</td>\n",
       "      <td>folder</td>\n",
       "      <td>L:\\PRIV\\ToxValDB\\Upload to Clowder\\To Do\\sourc...</td>\n",
       "      <td>PFAS 150 SEM</td>\n",
       "      <td>0</td>\n",
       "      <td>PFAS 150 SEM</td>\n",
       "      <td>NaN</td>\n",
       "      <td>PFAS 150 SEM</td>\n",
       "      <td>5e31dc1e99323f93a9f5cec0</td>\n",
       "      <td>dataset</td>\n",
       "      <td>62f6885ae4b055edffc335df</td>\n",
       "    </tr>\n",
       "  </tbody>\n",
       "</table>\n",
       "</div>"
      ],
      "text/plain": [
       "                                            origPath    type  \\\n",
       "1  L:\\PRIV\\ToxValDB\\Upload to Clowder\\To Do\\sourc...  folder   \n",
       "\n",
       "                                             rootDir       relPath  maxFolder  \\\n",
       "1  L:\\PRIV\\ToxValDB\\Upload to Clowder\\To Do\\sourc...  PFAS 150 SEM          0   \n",
       "\n",
       "        subDir0 subDir1    parentPath                  parentId parentType  \\\n",
       "1  PFAS 150 SEM     NaN  PFAS 150 SEM  5e31dc1e99323f93a9f5cec0    dataset   \n",
       "\n",
       "                       uuid  \n",
       "1  62f6885ae4b055edffc335df  "
      ]
     },
     "execution_count": 47,
     "metadata": {},
     "output_type": "execute_result"
    }
   ],
   "source": [
    "df.loc[[1]]"
   ]
  },
  {
   "cell_type": "code",
   "execution_count": 38,
   "id": "d64d6677",
   "metadata": {},
   "outputs": [],
   "source": [
    "df = df.fillna('N/A')\n",
    "df = df.drop(\"\", axis = 1)"
   ]
  },
  {
   "cell_type": "code",
   "execution_count": 42,
   "id": "a1e90e56",
   "metadata": {},
   "outputs": [
    {
     "data": {
      "text/plain": [
       "'L:\\\\PRIV\\\\ToxValDB\\\\Upload to Clowder\\\\To Do\\\\source_pfas_150_sem\\\\source_pfas_150_sem\\\\PFAS 150 SEM'"
      ]
     },
     "execution_count": 42,
     "metadata": {},
     "output_type": "execute_result"
    }
   ],
   "source": [
    "df.iloc[0,0]"
   ]
  },
  {
   "cell_type": "code",
   "execution_count": 40,
   "id": "dd46ca44",
   "metadata": {},
   "outputs": [
    {
     "name": "stdout",
     "output_type": "stream",
     "text": [
      "origPath\n",
      "type\n",
      "rootDir\n",
      "relPath\n",
      "maxFolder\n",
      "subDir0\n",
      "subDir1\n",
      "parentPath\n",
      "parentId\n",
      "parentType\n",
      "uuid\n",
      "HERO ID\n",
      "Reference Type\n",
      "Title\n",
      "Author(s)\n",
      "Year\n",
      "Is Peer Reviewed?\n",
      "Journal\n",
      "Volume\n",
      "Issue\n",
      "Page Numbers\n",
      "Language\n",
      "PMID\n",
      "DOI\n",
      "Web of Science Id\n",
      "Relationship(s)\n",
      "Keywords\n"
     ]
    }
   ],
   "source": [
    "for col in df.columns:\n",
    "    print(col)"
   ]
  },
  {
   "cell_type": "code",
   "execution_count": null,
   "id": "9248a318",
   "metadata": {},
   "outputs": [],
   "source": []
  }
 ],
 "metadata": {
  "kernelspec": {
   "display_name": "Python 3 (ipykernel)",
   "language": "python",
   "name": "python3"
  },
  "language_info": {
   "codemirror_mode": {
    "name": "ipython",
    "version": 3
   },
   "file_extension": ".py",
   "mimetype": "text/x-python",
   "name": "python",
   "nbconvert_exporter": "python",
   "pygments_lexer": "ipython3",
   "version": "3.9.12"
  }
 },
 "nbformat": 4,
 "nbformat_minor": 5
}
