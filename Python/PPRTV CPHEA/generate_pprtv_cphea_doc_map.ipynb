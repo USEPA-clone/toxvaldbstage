{
 "cells": [
  {
   "cell_type": "code",
   "execution_count": 24,
   "id": "1a35690c",
   "metadata": {},
   "outputs": [],
   "source": [
    "import pandas as pd"
   ]
  },
  {
   "cell_type": "code",
   "execution_count": 51,
   "id": "afda43d4",
   "metadata": {},
   "outputs": [],
   "source": [
    "#Open the cphea chemical list as a dataframe and append a file name column\n",
    "in_file = r\"C:\\Users\\mmille16\\OneDrive - Environmental Protection Agency (EPA)\\Profile\\Downloads\\pprtv_cphea_chemicals_20230123.xlsx\"\n",
    "cphea = pd.read_excel(in_file)\n",
    "\n",
    "#Open the clowder log as a data frame\n",
    "log_file =r\"C:\\Users\\mmille16\\clowder_log_pprtv_cphea_20230307.csv\"\n",
    "clowder_log = pd.read_csv(log_file)\n",
    "\n",
    "#Filter to only the \"file\" type of uploads\n",
    "files = clowder_log['type'] == 'file'\n",
    "\n",
    "#Make a temporary chemical name column that contains the chemical names for each file\n",
    "clowder_log['chemical_name'] = clowder_log.loc[files, 'origPath'].apply(lambda x:\n",
    "                                                            x.split('\\\\')[-1].split('_')[0])\n",
    "\n",
    "#Create doc map by merging the clowder log and cphea chemical list on chemical name. Then drop the repeaded chemical_name column\n",
    "doc_map = clowder_log.merge(cphea,\n",
    "                            left_on = 'chemical_name',\n",
    "                            right_on = 'Chemical').drop('chemical_name',axis = 1)"
   ]
  },
  {
   "cell_type": "code",
   "execution_count": 52,
   "id": "7b89333e",
   "metadata": {},
   "outputs": [],
   "source": [
    "#Save the document map to the specified outpath\n",
    "out_path = r\"C:\\Users\\mmille16\\OneDrive - Environmental Protection Agency (EPA)\\Profile\\Desktop\\pprtv_cphea_doc_map_mmille16.xlsx\"\n",
    "with pd.ExcelWriter(out_path) as writer:\n",
    "    doc_map.to_excel(writer, index = False)"
   ]
  },
  {
   "cell_type": "code",
   "execution_count": null,
   "id": "e6ab0924",
   "metadata": {},
   "outputs": [],
   "source": []
  }
 ],
 "metadata": {
  "kernelspec": {
   "display_name": "Python 3 (ipykernel)",
   "language": "python",
   "name": "python3"
  },
  "language_info": {
   "codemirror_mode": {
    "name": "ipython",
    "version": 3
   },
   "file_extension": ".py",
   "mimetype": "text/x-python",
   "name": "python",
   "nbconvert_exporter": "python",
   "pygments_lexer": "ipython3",
   "version": "3.9.12"
  }
 },
 "nbformat": 4,
 "nbformat_minor": 5
}
