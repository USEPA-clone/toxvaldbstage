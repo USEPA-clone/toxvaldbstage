{
 "cells": [
  {
   "cell_type": "code",
   "execution_count": 2,
   "id": "1f2548aa",
   "metadata": {},
   "outputs": [],
   "source": [
    "#Modules used\n",
    "import pandas as pd\n",
    "import time as t\n",
    "import os.path\n",
    "from PIL import Image\n",
    "from selenium import webdriver\n",
    "from selenium.webdriver.chrome.service import Service\n",
    "from selenium.webdriver.common.by import By\n",
    "\n",
    "#Open the pprtv cphea chemical list as a dataframe\n",
    "file = r\"C:\\Users\\mmille16\\OneDrive - Environmental Protection Agency (EPA)\\Profile\\Downloads\\pprtv_cphea_chemicals_20230123.xlsx\"\n",
    "cphea = pd.read_excel(file)"
   ]
  },
  {
   "cell_type": "code",
   "execution_count": 3,
   "id": "e4a0bdb0",
   "metadata": {},
   "outputs": [
    {
     "name": "stdout",
     "output_type": "stream",
     "text": [
      "done\n"
     ]
    }
   ],
   "source": [
    "#PNG Screenshots Screenshots\n",
    "\n",
    "#Selenium Browser settings\n",
    "Options = webdriver.ChromeOptions()\n",
    "Options.headless = True\n",
    "s=Service(r'C:\\Users\\mmille16\\Documents\\chromedriver.exe')\n",
    "driver = webdriver.Chrome(service=s, options = Options)\n",
    "\n",
    "#Location of PPRTV CPHEA pdf folder\n",
    "save_path = r\"L:\\PRIV\\ToxValDB\\Document Webscrape\\pprtv_cphea\\PPRTV CPHEA\\Extraction Documents\\Extraction PNG\" \n",
    "\n",
    "#Loop through the ids, access the webpage, and take a screenshot of the information\n",
    "for i in range(len(cphea)):\n",
    "    chem_name = cphea.loc[i,'Chemical']\n",
    "    file_name = f'{save_path}\\\\{chem_name}_pprtv_cphea_extraction.png'\n",
    "    if os.path.isfile(file_name):#In case this needs to be run again, make sure I don't double download a file\n",
    "        continue\n",
    "    try:\n",
    "#Open the webpage based on the cphea substance id\n",
    "        sub_id = cphea.loc[i,'PPRTV Substance ID']\n",
    "        browser = f'https://cfpub.epa.gov/ncea/pprtv/chemicalLanding.cfm?pprtv_sub_id={sub_id}'\n",
    "        driver.get(browser)\n",
    "#Scroll to the bottom of the webpage\n",
    "        S = lambda X: driver.execute_script('return document.body.parentNode.scroll'+X)\n",
    "        t.sleep(1)\n",
    "#Main content element of the webpage\n",
    "        element2 = driver.find_element(By.ID, \"main-content\")\n",
    "#Set the window size to see and  screenshot the entire main content element\n",
    "        driver.set_window_size(800,S(\"Height\"))\n",
    "        element2.screenshot(file_name)\n",
    "    except Exception as e: #In case a webpage cannot be accessed, let me know please and thank you\n",
    "        print(f'A problem arose for {chem_name} \\n {browser} \\n {e}')\n",
    "        continue\n",
    "driver.close()\n",
    "print('done')"
   ]
  },
  {
   "cell_type": "code",
   "execution_count": 6,
   "id": "3221e801",
   "metadata": {},
   "outputs": [],
   "source": [
    "#Convert png screenshots to pdfs\n",
    "save_path = r\"L:\\PRIV\\ToxValDB\\Document Webscrape\\pprtv_cphea\\PPRTV CPHEA\\Extraction Documents\\Extraction PNG\" #Location of PPRTV CPHEA png folder\n",
    "out_path = r\"L:\\PRIV\\ToxValDB\\Document Webscrape\\pprtv_cphea\\PPRTV CPHEA\\Extraction Documents\\Extraction PDF\" #Save location for pdf screenshots\n",
    "for png in os.listdir(save_path):\n",
    "#In case there are any files that are not pngs in the directory. Ignore them\n",
    "    if str(png).lower().find('.png') == -1:\n",
    "        continue\n",
    "#In case this needs to be run again, don't redo work I've already done.\n",
    "    if os.path.isfile(os.path.join(out_path,png.replace('.png','.pdf'))):\n",
    "        continue\n",
    "#Open the png image and convert it to a pdf to save in the new directory\n",
    "    im1 = Image.open(os.path.join(save_path,png))\n",
    "    im_1 = im1.convert('RGB')\n",
    "    im_1.save(os.path.join(out_path,png.replace('.png','.pdf')))"
   ]
  }
 ],
 "metadata": {
  "kernelspec": {
   "display_name": "Python 3 (ipykernel)",
   "language": "python",
   "name": "python3"
  },
  "language_info": {
   "codemirror_mode": {
    "name": "ipython",
    "version": 3
   },
   "file_extension": ".py",
   "mimetype": "text/x-python",
   "name": "python",
   "nbconvert_exporter": "python",
   "pygments_lexer": "ipython3",
   "version": "3.9.12"
  }
 },
 "nbformat": 4,
 "nbformat_minor": 5
}
