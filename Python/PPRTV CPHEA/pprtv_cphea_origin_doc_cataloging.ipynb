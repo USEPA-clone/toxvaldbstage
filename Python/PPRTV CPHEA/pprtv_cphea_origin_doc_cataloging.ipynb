{
 "cells": [
  {
   "cell_type": "code",
   "execution_count": 1,
   "id": "56dbdf69",
   "metadata": {},
   "outputs": [],
   "source": [
    "#Modules used\n",
    "import requests\n",
    "import pandas as pd\n",
    "import time as t\n",
    "import urllib.request\n",
    "import os.path\n",
    "from PIL import Image\n",
    "from io import BytesIO\n",
    "from selenium import webdriver\n",
    "from selenium.webdriver.chrome.service import Service\n",
    "from selenium.webdriver.common.by import By\n",
    "\n",
    "#Read in the cphea chemical list as a dataframe\n",
    "file = r\"C:\\Users\\mmille16\\OneDrive - Environmental Protection Agency (EPA)\\Profile\\Downloads\\pprtv_cphea_chemicals_20230123.xlsx\"\n",
    "cphea = pd.read_excel(file)"
   ]
  },
  {
   "cell_type": "code",
   "execution_count": 4,
   "id": "8dda8d9a",
   "metadata": {},
   "outputs": [
    {
     "name": "stdout",
     "output_type": "stream",
     "text": [
      "retrying origin documents not found before\n",
      "p-Chloro-m-cresol webpage does not have a link to the pprtv pdf\n",
      "2-Naphthylamine webpage does not have a link to the pprtv pdf\n",
      "Sodium acid pyrophosphate webpage does not have a link to the pprtv pdf\n",
      "done\n"
     ]
    }
   ],
   "source": [
    "#Holds info about problematic \n",
    "retry = {}\n",
    "\n",
    "#Save location of origin pdfs\n",
    "save_path = r\"L:\\PRIV\\ToxValDB\\Document Webscrape\\pprtv_cphea\\PPRTV CPHEA\\Origin Documents\"\n",
    "\n",
    "for i in range(len(cphea)):\n",
    "#Necessary names for each chemical\n",
    "    chem_name = cphea.loc[i,'Chemical']\n",
    "    file_name = f'{save_path}/{chem_name}_pprtv_cphea_origin.pdf' #Save name of support pdf\n",
    "    if os.path.isfile(file_name): #In case this needs to be run again, make sure I don't double download a file\n",
    "        continue\n",
    "    #Extract the pdf url from the excel file\n",
    "    url = cphea.loc[i,'PPRTV Assessment']\n",
    "    try:\n",
    "        t.sleep(1)\n",
    "    #Access the pdf url, open a file in the pprtv cphea pdf folder, write, and save the file from the pdf url\n",
    "        response = urllib.request.urlopen(url)\n",
    "    except Exception as e: #In case the pdf url is invalid, save some info about it please and thank you\n",
    "        retry[cphea.loc[i,'PPRTV Substance ID']] = chem_name\n",
    "        continue\n",
    "#Open and save the pdf in the save path\n",
    "    file = open(file_name,'wb')\n",
    "    file.write(response.read())\n",
    "    file.close()\n",
    "\n",
    "#Might be able to find more valid pprtv pdf links on the pprtv_chpea webpage, but lets only do that if necessary\n",
    "print('retrying origin documents not found before')\n",
    "for sub_id in retry:\n",
    "    file_name = f'{save_path}/{retry[sub_id]}_pprtv_cphea_origin.pdf'\n",
    "    if os.path.isfile(file_name): #In case this needs to be run again, make sure I don't double download a file\n",
    "        continue\n",
    "#Slenium browser settings\n",
    "    browser = f'https://cfpub.epa.gov/ncea/pprtv/chemicalLanding.cfm?pprtv_sub_id={sub_id}'\n",
    "    Options = webdriver.ChromeOptions()\n",
    "    Options.headless = True\n",
    "    s=Service(r'C:\\Users\\mmille16\\Documents\\chromedriver.exe')\n",
    "    driver = webdriver.Chrome(service=s, options = Options)\n",
    "    driver.get(browser)\n",
    "    \n",
    "#Look for the webpage element with the pprtv link\n",
    "    try:\n",
    "        item = driver.find_element(By.PARTIAL_LINK_TEXT,'Toxicity')\n",
    "    except:\n",
    "#Some may not have one. Tell me just in case\n",
    "        print(f'{retry[sub_id]} webpage does not have a link to the pprtv pdf')\n",
    "        continue\n",
    "#Travel through the webpage until we arrive at the downloadable pdf link\n",
    "    item.click()\n",
    "    t.sleep(0.5)\n",
    "    tab = driver.find_element(By.PARTIAL_LINK_TEXT,'Downloads')\n",
    "    tab.click()\n",
    "    t.sleep(0.5)\n",
    "#Get the pdf url and save as a pdf in the directory\n",
    "    doc = driver.find_element(By.PARTIAL_LINK_TEXT,'Toxicity')\n",
    "    response = urllib.request.urlopen(doc.get_attribute('href'))\n",
    "#Open and save the pdf file in the folder directory\n",
    "    file = open(file_name, 'wb')\n",
    "    file.write(response.read())\n",
    "    file.close()\n",
    "    driver.close()\n",
    "print('done')"
   ]
  },
  {
   "cell_type": "code",
   "execution_count": null,
   "id": "d332ac5a",
   "metadata": {},
   "outputs": [],
   "source": []
  }
 ],
 "metadata": {
  "kernelspec": {
   "display_name": "Python 3 (ipykernel)",
   "language": "python",
   "name": "python3"
  },
  "language_info": {
   "codemirror_mode": {
    "name": "ipython",
    "version": 3
   },
   "file_extension": ".py",
   "mimetype": "text/x-python",
   "name": "python",
   "nbconvert_exporter": "python",
   "pygments_lexer": "ipython3",
   "version": "3.9.12"
  }
 },
 "nbformat": 4,
 "nbformat_minor": 5
}
