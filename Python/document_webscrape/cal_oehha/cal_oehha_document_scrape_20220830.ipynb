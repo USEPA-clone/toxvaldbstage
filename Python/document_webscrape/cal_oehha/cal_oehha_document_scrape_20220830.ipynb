{
 "cells": [
  {
   "cell_type": "markdown",
   "id": "b4c78de6",
   "metadata": {},
   "source": [
    "# Notes\n",
    "\n",
    "Before beginning, I downloaded the .csv version of the data so we can use its list of chemical names."
   ]
  },
  {
   "cell_type": "code",
   "execution_count": 39,
   "id": "27ed9e0f",
   "metadata": {},
   "outputs": [],
   "source": [
    "import selenium, requests, time, os, re\n",
    "import pandas as pd\n",
    "from selenium import webdriver\n",
    "from selenium.webdriver.chrome.service import Service\n",
    "from selenium.webdriver.common.by import By\n",
    "from selenium.webdriver.common.keys import Keys\n",
    "from PIL import Image\n",
    "from tqdm.notebook import tqdm\n",
    "\n",
    "# read in the source file\n",
    "oehha = pd.read_csv('OEHHA-chemicals_2022-08-30T11-30-58.csv')"
   ]
  },
  {
   "cell_type": "code",
   "execution_count": 45,
   "id": "d63fdf64",
   "metadata": {},
   "outputs": [],
   "source": [
    "# start a list to keep track of which chemicals we've done already\n",
    "# do it up here so it doesn't get reset after \n",
    "done = []"
   ]
  },
  {
   "cell_type": "code",
   "execution_count": 70,
   "id": "e1fefa09",
   "metadata": {
    "scrolled": true
   },
   "outputs": [
    {
     "data": {
      "application/vnd.jupyter.widget-view+json": {
       "model_id": "58e89d471e714ebd9d0c42a87b803fed",
       "version_major": 2,
       "version_minor": 0
      },
      "text/plain": [
       "  0%|          | 0/1126 [00:00<?, ?it/s]"
      ]
     },
     "metadata": {},
     "output_type": "display_data"
    }
   ],
   "source": [
    "# webdriver must be headless to take a full-page screenshot\n",
    "Options = webdriver.ChromeOptions()\n",
    "Options.headless = True \n",
    "s=Service(r'<path_to_your_chrome_driver_here>')\n",
    "\n",
    "# get a list of everything already downloaded so we can check against it\n",
    "# os.chdir(r'L:\\PRIV\\ToxValDB\\Document Webscrape\\source_cal_oehha')\n",
    "# done = [filename[10:-28] for filename in os.listdir(r'docs\\pdf')]\n",
    "\n",
    "# lists to catch any problematic names and the cause for their issues\n",
    "messed_up_names = []\n",
    "reasons = []\n",
    "# list to hold URLs for metadata\n",
    "urls = []\n",
    "# list to hold new filenames\n",
    "new_names = []\n",
    "\n",
    "for i in tqdm(range(len(oehha))):\n",
    "    try:\n",
    "        # grab the name of the chemical for this round\n",
    "        name = oehha['Title'].iloc[i]\n",
    "\n",
    "        # check to see if this file has already been downloaded\n",
    "        if name in done:\n",
    "            continue\n",
    "\n",
    "        # catch problematic names\n",
    "        if bool(re.search(r'[\\\\/:;*?\"<>|&]', name)):\n",
    "            messed_up_names.append(name)\n",
    "            reasons.append('forbidden character')\n",
    "            continue\n",
    "\n",
    "        # get a timestamp for the png\n",
    "        timestamp = time.strftime(\"%Y%m%d_%H%M%S\",time.localtime())\n",
    "\n",
    "        # pull up the page we're screenshotting by pasting it into the search bar\n",
    "        driver = webdriver.Chrome(service=s, options = Options)\n",
    "        # URL = f'https://oehha.ca.gov/chemicals/' # used in the first run of the script, commented out in the second\n",
    "        #driver.get(URL)\n",
    "        time.sleep(0.25)\n",
    "        # driver.find_element(By.XPATH, '//*[@id=\"edit_jump_chosen\"]/a/span').click() # Ibid.\n",
    "        # time.sleep(0.25)\n",
    "        # driver.find_element(By.XPATH, '//*[@id=\"edit_jump_chosen\"]/div/div/input').send_keys(name)\n",
    "        # time.sleep(0.25)\n",
    "        # driver.find_element(By.XPATH, '//*[@id=\"edit_jump_chosen\"]/div/div/input').send_keys(Keys.ENTER)\n",
    "        # time.sleep(0.25)\n",
    "        URL = f'https://oehha.ca.gov/chemicals/{name.replace(\" \", \"-\")}'\n",
    "        driver.get(URL)\n",
    "        time.sleep(0.25)\n",
    "\n",
    "        # check to make sure the chemical name matches the name on the URL (see https://.../acetominophen (sic))\n",
    "        if driver.find_element(By.XPATH, '//*[@id=\"page-title\"]').text != name:\n",
    "            messed_up_names.append(name)\n",
    "            reasons.append('chemical name did not match page title')\n",
    "            continue\n",
    "\n",
    "        # get the URL and assign a new name\n",
    "        urls.append(driver.current_url)\n",
    "        time.sleep(0.25)\n",
    "        new_name = driver.current_url.split('/')[-1]\n",
    "        time.sleep(0.25)\n",
    "        new_names.append(new_name)\n",
    "\n",
    "        # Resize the window to the full size of the page (plus a little more width for readability)\n",
    "        full_width = driver.execute_script('return document.body.parentNode.scrollWidth')\n",
    "        time.sleep(0.25)\n",
    "        full_height = driver.execute_script('return document.body.parentNode.scrollHeight')\n",
    "        time.sleep(0.25)\n",
    "        driver.set_window_size(full_width + 500, full_height)\n",
    "        time.sleep(0.25)\n",
    "\n",
    "        # screenshot everything inside the main content tag (everything but header and footer)\n",
    "        content = driver.find_element(By.XPATH, '//*[@id=\"main-content\"]')\n",
    "        time.sleep(0.25)\n",
    "        content.screenshot(f'docs\\\\png\\\\cal_oehha_{new_name}_webpage_{timestamp}.png')\n",
    "        time.sleep(0.25)\n",
    "\n",
    "        # close the driver\n",
    "        driver.quit()\n",
    "\n",
    "        # save the image as a pdf\n",
    "        image = Image.open(f'docs\\\\png\\\\cal_oehha_{new_name}_webpage_{timestamp}.png')\n",
    "        image_converted = image.convert('RGB')\n",
    "        image_converted.save(f'docs\\\\pdf\\\\cal_oehha_{new_name}_webpage_{timestamp}.pdf', \n",
    "                             quality = 100)\n",
    "\n",
    "        done.append(name)\n",
    "    \n",
    "    except:\n",
    "        messed_up_names.append(name)\n",
    "        reasons.append('unknown exception')"
   ]
  },
  {
   "cell_type": "code",
   "execution_count": 71,
   "id": "8d4d9abf",
   "metadata": {},
   "outputs": [],
   "source": [
    "for name in messed_up_names:\n",
    "    if name in done:\n",
    "        messed_up_names.pop(messed_up_names.index(name))"
   ]
  },
  {
   "cell_type": "code",
   "execution_count": 73,
   "id": "9bdac84d",
   "metadata": {
    "scrolled": true
   },
   "outputs": [
    {
     "name": "stdout",
     "output_type": "stream",
     "text": [
      "1124\n",
      "Chlorinated paraffins (Avg. chain length C12; approx. 60 percent chlorine by weight) forbidden character\n",
      "Cyanotoxins: Cylindrospermopsin forbidden character\n",
      "D&C Orange No. 17 forbidden character\n",
      "D&C Red No. 19 forbidden character\n",
      "D&C Red No. 8 forbidden character\n",
      "D&C Red No. 9 forbidden character\n",
      "Gasoline engine exhaust (condensates/extracts) forbidden character\n",
      "Glu-P-1 (2-Amino-6-methyldipyrido[1-2-a:3'-2'-d]imidazole) forbidden character\n",
      "Glu-P-2 (2-Aminodipyrido[1,2-a:3',2'-d]imidazole) forbidden character\n",
      "2,4-Hexadienal (89% trans, trans isomer; 11% cis, trans isomer) forbidden character\n",
      "Manganese & Manganese Compounds forbidden character\n",
      "Norethisterone (Norethindrone) /Ethinyl Estradiol forbidden character\n",
      "Norethisterone (Norethindrone) /Mestranol forbidden character\n",
      "Palygorskite fibers (> 5µm in length) forbidden character\n",
      "Perfluorooctane Sulfonate  (PFOS) chemical name did not match page title\n",
      "Retinol/Retinyl Esters forbidden character\n"
     ]
    },
    {
     "data": {
      "text/plain": [
       "[None,\n",
       " None,\n",
       " None,\n",
       " None,\n",
       " None,\n",
       " None,\n",
       " None,\n",
       " None,\n",
       " None,\n",
       " None,\n",
       " None,\n",
       " None,\n",
       " None,\n",
       " None,\n",
       " None,\n",
       " None]"
      ]
     },
     "execution_count": 73,
     "metadata": {},
     "output_type": "execute_result"
    }
   ],
   "source": [
    "print(len(done) + len(messed_up_names))\n",
    "[print(messed_up_names[i], reasons[i]) for i in range(len(reasons))]"
   ]
  },
  {
   "cell_type": "code",
   "execution_count": 74,
   "id": "637f3e65",
   "metadata": {},
   "outputs": [],
   "source": [
    "still_messed_up = ['chlorinated p',\n",
    "                   'cyanotoxins',\n",
    "                   'Orange no. 17', \n",
    "                   'red no. 19',\n",
    "                   'Red no. 8', \n",
    "                   'red no. 9',\n",
    "                   'gasoline e', \n",
    "                   'glu-p-1', \n",
    "                   'glu-p-2',\n",
    "                   '2,4-hex',\n",
    "                   'manganese',\n",
    "                   'norethisterone (norethindrone) /e',\n",
    "                   'norethisterone (norethindrone) /m',\n",
    "                   'palygor',\n",
    "                   'perfluorooctane sulfonate',\n",
    "                   'retinol']"
   ]
  },
  {
   "cell_type": "code",
   "execution_count": 77,
   "id": "3f064799",
   "metadata": {},
   "outputs": [
    {
     "data": {
      "application/vnd.jupyter.widget-view+json": {
       "model_id": "c7a120089dc54d0984336694d7cf67e6",
       "version_major": 2,
       "version_minor": 0
      },
      "text/plain": [
       "  0%|          | 0/16 [00:00<?, ?it/s]"
      ]
     },
     "metadata": {},
     "output_type": "display_data"
    }
   ],
   "source": [
    "#\n",
    "##\n",
    "###\n",
    "#### Taking care of the remaining pages that were not downloaded earlier #################################\n",
    "###\n",
    "##\n",
    "#\n",
    "\n",
    "for i in tqdm(range(len(messed_up_names))):\n",
    "    try:\n",
    "        # grab the name of the chemical for this round\n",
    "        name = messed_up_names[i]\n",
    "        # and get the shortened version we just found\n",
    "        name_abbrev = still_messed_up[i]\n",
    "\n",
    "        # check to see if this file has already been downloaded\n",
    "        if name in done:\n",
    "            continue\n",
    "\n",
    "        # don't need to worry about catching problematic names\n",
    "\n",
    "        # get a timestamp for the png\n",
    "        timestamp = time.strftime(\"%Y%m%d_%H%M%S\",time.localtime())\n",
    "\n",
    "        # pull up the page we're screenshotting by pasting it into the search bar\n",
    "        driver = webdriver.Chrome(service=s, options = Options)\n",
    "        URL = f'https://oehha.ca.gov/chemicals/' # used in the first run of the script, commented out in the second\n",
    "        driver.get(URL)\n",
    "        time.sleep(0.25)\n",
    "        driver.find_element(By.XPATH, '//*[@id=\"edit_jump_chosen\"]/a/span').click() # Ibid.\n",
    "        time.sleep(0.25)\n",
    "        driver.find_element(By.XPATH, '//*[@id=\"edit_jump_chosen\"]/div/div/input').send_keys(name_abbrev)\n",
    "        time.sleep(0.25)\n",
    "        driver.find_element(By.XPATH, '//*[@id=\"edit_jump_chosen\"]/div/div/input').send_keys(Keys.ENTER)\n",
    "        time.sleep(0.25)\n",
    "\n",
    "\n",
    "        # check to make sure the chemical name matches the name on the URL (see https://.../acetominophen (sic))\n",
    "        if driver.find_element(By.XPATH, '//*[@id=\"page-title\"]').text != name:\n",
    "            messed_up_names.append(name)\n",
    "            reasons.append('chemical name did not match page title')\n",
    "            continue\n",
    "\n",
    "        # get the URL and assign a new name\n",
    "        urls.append(driver.current_url)\n",
    "        time.sleep(0.25)\n",
    "        new_name = driver.current_url.split('/')[-1]\n",
    "        time.sleep(0.25)\n",
    "        new_names.append(new_name)\n",
    "\n",
    "        # Resize the window to the full size of the page (plus a little more width for readability)\n",
    "        full_width = driver.execute_script('return document.body.parentNode.scrollWidth')\n",
    "        time.sleep(0.25)\n",
    "        full_height = driver.execute_script('return document.body.parentNode.scrollHeight')\n",
    "        time.sleep(0.25)\n",
    "        driver.set_window_size(full_width + 500, full_height)\n",
    "        time.sleep(0.25)\n",
    "\n",
    "        # screenshot everything inside the main content tag (everything but header and footer)\n",
    "        content = driver.find_element(By.XPATH, '//*[@id=\"main-content\"]')\n",
    "        time.sleep(0.25)\n",
    "        content.screenshot(f'docs\\\\png\\\\cal_oehha_{new_name}_webpage_{timestamp}.png')\n",
    "        time.sleep(0.25)\n",
    "\n",
    "        # close the driver\n",
    "        driver.quit()\n",
    "\n",
    "        # save the image as a pdf\n",
    "        image = Image.open(f'docs\\\\png\\\\cal_oehha_{new_name}_webpage_{timestamp}.png')\n",
    "        image_converted = image.convert('RGB')\n",
    "        image_converted.save(f'docs\\\\pdf\\\\cal_oehha_{new_name}_webpage_{timestamp}.pdf', \n",
    "                             quality = 100)\n",
    "\n",
    "        done.append(name)\n",
    "    \n",
    "    except:\n",
    "        messed_up_names.append(name)\n",
    "        reasons.append('unknown exception')"
   ]
  },
  {
   "cell_type": "markdown",
   "id": "c5a6524e",
   "metadata": {},
   "source": [
    "We need to do it one last time to catch the final straggler -- PFOS."
   ]
  },
  {
   "cell_type": "code",
   "execution_count": 80,
   "id": "f24a8779",
   "metadata": {},
   "outputs": [],
   "source": [
    "name = oehha['Title'].tolist().index('Perfluorooctane Sulfonate  (PFOS)')\n",
    "timestamp = time.strftime(\"%Y%m%d_%H%M%S\",time.localtime())\n",
    "driver = webdriver.Chrome(service=s, options = Options)\n",
    "URL = f'https://oehha.ca.gov/chemicals/perfluorooctane-sulfonate-pfos'\n",
    "driver.get(URL)\n",
    "\n",
    "# get the URL and assign a new name\n",
    "urls.append(driver.current_url)\n",
    "time.sleep(0.25)\n",
    "new_name = driver.current_url.split('/')[-1]\n",
    "time.sleep(0.25)\n",
    "new_names.append(new_name)\n",
    "\n",
    "# Resize the window to the full size of the page (plus a little more width for readability)\n",
    "full_width = driver.execute_script('return document.body.parentNode.scrollWidth')\n",
    "time.sleep(0.25)\n",
    "full_height = driver.execute_script('return document.body.parentNode.scrollHeight')\n",
    "time.sleep(0.25)\n",
    "driver.set_window_size(full_width + 500, full_height)\n",
    "time.sleep(0.25)\n",
    "\n",
    "# screenshot everything inside the main content tag (everything but header and footer)\n",
    "content = driver.find_element(By.XPATH, '//*[@id=\"main-content\"]')\n",
    "time.sleep(0.25)\n",
    "content.screenshot(f'docs\\\\png\\\\cal_oehha_{new_name}_webpage_{timestamp}.png')\n",
    "time.sleep(0.25)\n",
    "\n",
    "# close the driver\n",
    "driver.quit()\n",
    "\n",
    "# save the image as a pdf\n",
    "image = Image.open(f'docs\\\\png\\\\cal_oehha_{new_name}_webpage_{timestamp}.png')\n",
    "image_converted = image.convert('RGB')\n",
    "image_converted.save(f'docs\\\\pdf\\\\cal_oehha_{new_name}_webpage_{timestamp}.pdf', \n",
    "                     quality = 100)\n",
    "\n",
    "done.append(name)"
   ]
  },
  {
   "cell_type": "code",
   "execution_count": 93,
   "id": "f7047100",
   "metadata": {},
   "outputs": [],
   "source": [
    "png = [filename[10:-28] for filename in os.listdir(r'docs\\png')]\n",
    "pdf = [filename[10:-28] for filename in os.listdir(r'docs\\pdf')]"
   ]
  },
  {
   "cell_type": "code",
   "execution_count": 99,
   "id": "ccfa8ad2",
   "metadata": {},
   "outputs": [
    {
     "data": {
      "text/plain": [
       "1125"
      ]
     },
     "execution_count": 99,
     "metadata": {},
     "output_type": "execute_result"
    }
   ],
   "source": [
    "len(png) - len(set(png)) # looks like there are two duplicates -- deleting one of each manually\n",
    "len(png) # well now there are only 1125 pngs. we're one short."
   ]
  },
  {
   "cell_type": "code",
   "execution_count": 125,
   "id": "d0975c35",
   "metadata": {},
   "outputs": [
    {
     "data": {
      "text/plain": [
       "png                                                              \n",
       "                                                                     1\n",
       "molinate                                                             1\n",
       "mopp-vincristine-prednisone-nitrogen-mustard-procarbazine-mixture    1\n",
       "monocrotaline                                                        1\n",
       "mon-4660-dichloroacetyl-1-oxa-4-azaspiro45-decane                    1\n",
       "                                                                    ..\n",
       "ci-disperse-yellow-3                                                 1\n",
       "ci-solvent-yellow-14                                                 1\n",
       "ciclosporin                                                          1\n",
       "cidofovir                                                            1\n",
       "zineb                                                                1\n",
       "Length: 1125, dtype: int64"
      ]
     },
     "execution_count": 125,
     "metadata": {},
     "output_type": "execute_result"
    }
   ],
   "source": [
    "pd.DataFrame({'png': png}).value_counts()"
   ]
  },
  {
   "cell_type": "code",
   "execution_count": 101,
   "id": "977e1e35",
   "metadata": {},
   "outputs": [
    {
     "data": {
      "text/plain": [
       "1124"
      ]
     },
     "execution_count": 101,
     "metadata": {},
     "output_type": "execute_result"
    }
   ],
   "source": [
    "len(pdf) - len(set(pdf)) # they're all unique, but\n",
    "len(pdf) # we're two short here"
   ]
  },
  {
   "cell_type": "code",
   "execution_count": 116,
   "id": "e749ccba",
   "metadata": {},
   "outputs": [
    {
     "name": "stdout",
     "output_type": "stream",
     "text": [
      "1126\n",
      "1124\n",
      "Perfluorooctane Sulfonate  (PFOS) has not been marked 'done'\n"
     ]
    }
   ],
   "source": [
    "print(len(oehha['Title']))\n",
    "print(len(done))\n",
    "for name in oehha['Title']:\n",
    "    if name not in done:\n",
    "        print(f'{name} has not been marked \\'done\\'')"
   ]
  },
  {
   "cell_type": "code",
   "execution_count": 123,
   "id": "c262d4af",
   "metadata": {},
   "outputs": [
    {
     "data": {
      "text/plain": [
       "1124"
      ]
     },
     "execution_count": 123,
     "metadata": {},
     "output_type": "execute_result"
    }
   ],
   "source": [
    "len(set(oehha['Title'])) # hang on"
   ]
  },
  {
   "cell_type": "code",
   "execution_count": 124,
   "id": "5481fc21",
   "metadata": {},
   "outputs": [
    {
     "data": {
      "text/plain": [
       "titles                              \n",
       "Nickel compounds                        2\n",
       "Cadmium                                 2\n",
       "N-Nitrosomethylvinylamine               1\n",
       "Nalidixic Acid                          1\n",
       "Naled                                   1\n",
       "                                       ..\n",
       "Cyanotoxins: Cylindrospermopsin         1\n",
       "Cycasin                                 1\n",
       "Cycloate                                1\n",
       "Cyclohexanol                            1\n",
       "trichlorotrifluoroethane (Freon 113)    1\n",
       "Length: 1124, dtype: int64"
      ]
     },
     "execution_count": 124,
     "metadata": {},
     "output_type": "execute_result"
    }
   ],
   "source": [
    "pd.DataFrame({'titles': oehha['Title']}).value_counts()"
   ]
  },
  {
   "cell_type": "markdown",
   "id": "09bac6ee",
   "metadata": {},
   "source": [
    "So with 1124 unique pdfs and 1125 unique items in png (one of which is simply titled '' and thus presumably some kind of hidden system file, as it's not showing up in the file explorer) I think we're finally good to upload."
   ]
  },
  {
   "cell_type": "code",
   "execution_count": 143,
   "id": "3d781601",
   "metadata": {},
   "outputs": [
    {
     "data": {
      "text/plain": [
       "['zileuton', 'zinc', 'zineb', '']"
      ]
     },
     "execution_count": 143,
     "metadata": {},
     "output_type": "execute_result"
    }
   ],
   "source": [
    "png_lengths = [len(i) for i in png]\n",
    "png[png_lengths.index(0)-3:png_lengths.index(0)+1]\n",
    "#png_lengths.sort()\n",
    "#print(png_lengths)"
   ]
  }
 ],
 "metadata": {
  "kernelspec": {
   "display_name": "Python 3 (ipykernel)",
   "language": "python",
   "name": "python3"
  },
  "language_info": {
   "codemirror_mode": {
    "name": "ipython",
    "version": 3
   },
   "file_extension": ".py",
   "mimetype": "text/x-python",
   "name": "python",
   "nbconvert_exporter": "python",
   "pygments_lexer": "ipython3",
   "version": "3.9.12"
  }
 },
 "nbformat": 4,
 "nbformat_minor": 5
}
