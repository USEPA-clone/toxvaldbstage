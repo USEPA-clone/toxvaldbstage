{
 "cells": [
  {
   "cell_type": "code",
   "execution_count": 2,
   "id": "ec4d0071",
   "metadata": {},
   "outputs": [],
   "source": [
    "import requests, time, os\n",
    "import pandas as pd\n",
    "\n",
    "# read in the source file\n",
    "ncea = pd.read_excel('pprtv_chemicals.xlsx', index_col = None)"
   ]
  },
  {
   "cell_type": "code",
   "execution_count": 20,
   "id": "84724f6d",
   "metadata": {},
   "outputs": [],
   "source": [
    "unsuccessful = []\n",
    "# get list of files already downloaded in case we need to restart the script\n",
    "done = os.listdir('pdfs')\n",
    "\n",
    "for url in ncea['PPRTV Assessment']:\n",
    "    # retrieve filename and store it for future reference\n",
    "    filename = url.split('/')[-1]\n",
    "    # check to make sure we haven't already downloaded it\n",
    "    if filename in done:\n",
    "        continue\n",
    "    \n",
    "    # grab the pdf from the given url\n",
    "    response = requests.get(url)\n",
    "    time.sleep(0.5)\n",
    "    # and if it gets a response, save it to the pdfs directory\n",
    "    if response.status_code == 200:\n",
    "        chemical = filename.split(\".\")[0]\n",
    "        with open(r'pdfs/'+chemical+'_pprtv_ncea.pdf', 'wb') as f:\n",
    "            f.write(response.content)\n",
    "    # otherwise, log it and keep moving.\n",
    "    else:\n",
    "        unsuccessful.append(filename)\n",
    "        continue\n",
    "    # assuming all went well, mark file as done\n",
    "    done.append(filename)\n"
   ]
  },
  {
   "cell_type": "code",
   "execution_count": 21,
   "id": "5df74140",
   "metadata": {},
   "outputs": [
    {
     "data": {
      "text/plain": [
       "['ButyltinCompoundsmono.pdf',\n",
       " 'ButyltinCompoundstri.pdf',\n",
       " 'Chloromcresolp.pdf',\n",
       " 'Crotonaldehydetrans.pdf',\n",
       " 'DichloroethyleneMixedIsomers12.pdf',\n",
       " 'Diethylphosphorodithioate.pdf',\n",
       " 'DiphenylEther.pdf',\n",
       " 'Ethylhexanol2.pdf',\n",
       " 'Lanthanum.pdf',\n",
       " 'Naphthylamine2.pdf',\n",
       " 'Sodiumacidpyrophosphate.pdf',\n",
       " 'ToluicAcidp.pdf',\n",
       " 'ToluidineMethylaniline2o.pdf',\n",
       " 'Toxaphene.pdf']"
      ]
     },
     "execution_count": 21,
     "metadata": {},
     "output_type": "execute_result"
    }
   ],
   "source": [
    "unsuccessful"
   ]
  },
  {
   "cell_type": "code",
   "execution_count": 11,
   "id": "ee4952de",
   "metadata": {},
   "outputs": [],
   "source": [
    "# create variable to track which files were successfully downloaded\n",
    "downloaded = [] \n",
    "for i in range(len(ncea['PPRTV Assessment'])):\n",
    "    filename = ncea['PPRTV Assessment'].iloc[i].split(\"/\")[-1]\n",
    "    if filename in unsuccessful:\n",
    "        downloaded.append(0)\n",
    "    else:\n",
    "        downloaded.append(1)\n",
    "ncea['downloaded'] = downloaded\n",
    "# write to pass on to next step\n",
    "ncea.to_excel('PPRTV_NCEA_chemicals_downloaded.xlsx')"
   ]
  }
 ],
 "metadata": {
  "kernelspec": {
   "display_name": "Python 3 (ipykernel)",
   "language": "python",
   "name": "python3"
  },
  "language_info": {
   "codemirror_mode": {
    "name": "ipython",
    "version": 3
   },
   "file_extension": ".py",
   "mimetype": "text/x-python",
   "name": "python",
   "nbconvert_exporter": "python",
   "pygments_lexer": "ipython3",
   "version": "3.9.12"
  }
 },
 "nbformat": 4,
 "nbformat_minor": 5
}
