{
 "cells": [
  {
   "cell_type": "markdown",
   "id": "c7610e38",
   "metadata": {},
   "source": [
    "# Main script\n",
    "\n",
    "Important note: in order to make this script work properly, I renamed several chemicals in the `iris_assessment_table...` Excel sheet. There were several lines with the same chemical name, but pointing to different chemicals with separate CAS numbers and unique titles on their actual webpages. These were renamed to agree with their webpages, e.g., the two rows with chemical name \"Chlorobutane\" were renamed \"1-Chlorobutane\" and \"2-Chlorobutane.\" Additionally, there were two chemical names containing forward slashes. The alternate names after the slashes were placed in parentheses."
   ]
  },
  {
   "cell_type": "code",
   "execution_count": 6,
   "id": "e23ad7bc",
   "metadata": {
    "scrolled": true
   },
   "outputs": [],
   "source": [
    "import selenium, requests, time, os\n",
    "import pandas as pd\n",
    "from selenium import webdriver\n",
    "from selenium.webdriver.chrome.service import Service\n",
    "from selenium.webdriver.common.by import By\n",
    "from PIL import Image\n",
    "\n",
    "# read in the source file\n",
    "iris_source = pd.read_excel('iris_assessment_table_unique_names_20220721.xlsx')"
   ]
  },
  {
   "cell_type": "code",
   "execution_count": 13,
   "id": "62654a87",
   "metadata": {
    "scrolled": true
   },
   "outputs": [
    {
     "name": "stdout",
     "output_type": "stream",
     "text": [
      "20220722_122121 100.0 Zineb\n"
     ]
    }
   ],
   "source": [
    "# webdriver must be headless to take a full-page screenshot\n",
    "Options = webdriver.ChromeOptions()\n",
    "Options.headless = True \n",
    "s=Service(r'C:\\Users\\JWILLI29\\OneDrive - Environmental Protection Agency (EPA)\\Profile\\Documents\\chromedriver.exe')\n",
    "\n",
    "# get list of screenshots already taken, if any, to check against during the loop\n",
    "downloaded = os.listdir(r'output\\chemicals\\screenshots')\n",
    "# list to catch any names containing problematic characters\n",
    "messed_up_names = []\n",
    "\n",
    "for i in range(len(iris_source)):\n",
    "    # check to see if this file has already been downloaded\n",
    "    if iris_source.loc[i, 'Chemical Name'] + '.png' in downloaded:\n",
    "        continue\n",
    "    \n",
    "    # check to see if chemical name contains a slash that will mess up my filenames\n",
    "    if (\"\\\\\" in iris_source.loc[i, 'Chemical Name']) | (\"/\" in iris_source.loc[i, 'Chemical Name']):\n",
    "        messed_up_names.append(iris_source.loc[i, 'Chemical Name'])\n",
    "        continue\n",
    "    \n",
    "    # get a timestamp for the chemical page\n",
    "    chem_timestamp = time.strftime(\"%Y%m%d_%H%M%S\",time.localtime())\n",
    "    \n",
    "    # pull up the page we're screenshotting\n",
    "    URL = iris_source.loc[i, 'Chemical URL']\n",
    "    driver = webdriver.Chrome(service=s, options = Options)\n",
    "    driver.get(URL)\n",
    "    time.sleep(1)\n",
    "\n",
    "    # find the element containing the expansion button and then click on it. if it doesn't exist, this does nothing\n",
    "    try:\n",
    "        driver.find_element(By.XPATH, \"//*[@id=\\\"DataTables_Table_0\\\"]/tbody/tr[1]/td[1]\").click()\n",
    "        time.sleep(0.25)\n",
    "    except:\n",
    "        pass\n",
    "    try:\n",
    "        driver.find_element(By.XPATH, \"//*[@id=\\\"DataTables_Table_0\\\"]/tbody/tr[3]/td[1]\").click()\n",
    "        time.sleep(0.25)\n",
    "    except:\n",
    "        pass\n",
    "    try:\n",
    "        driver.find_element(By.XPATH, \"//*[@id=\\\"DataTables_Table_1\\\"]/tbody/tr[1]/td[1]\").click()\n",
    "        time.sleep(0.25)\n",
    "    except:\n",
    "        pass\n",
    "    try:\n",
    "        driver.find_element(By.XPATH, \"//*[@id=\\\"DataTables_Table_1\\\"]/tbody/tr[3]/td[1]\").click()\n",
    "        time.sleep(0.25)\n",
    "    except:\n",
    "        pass\n",
    "\n",
    "    # Resize the window to the full size of the page (plus a little more width for readability)\n",
    "    full_width = driver.execute_script('return document.body.parentNode.scrollWidth')\n",
    "    time.sleep(0.33)\n",
    "    full_height = driver.execute_script('return document.body.parentNode.scrollHeight')\n",
    "    time.sleep(0.33)\n",
    "    driver.set_window_size(full_width + 500, full_height)\n",
    "    time.sleep(0.33)\n",
    "\n",
    "    # screenshot everything inside the main content tag (everything but header and footer)\n",
    "    content = driver.find_element(By.XPATH, '//*[@id=\\\"main-content\\\"]')\n",
    "    time.sleep(0.25)\n",
    "    content.screenshot(r'output\\chemicals\\screenshots\\\\' + iris_source.loc[i, 'Chemical Name'] + '.png')\n",
    "    time.sleep(0.5)\n",
    "\n",
    "    # close the driver\n",
    "    driver.quit()\n",
    "\n",
    "    # save the image as a pdf\n",
    "    image = Image.open(r'output\\chemicals\\screenshots\\\\'+iris_source.loc[i, 'Chemical Name'] +'.png')\n",
    "    image_converted = image.convert('RGB')\n",
    "    image_converted.save(r'output\\chemicals\\iris_'+iris_source.loc[i, 'Chemical Name']+'_webpage_'+chem_timestamp+'.pdf', \n",
    "                         quality = 100)\n",
    "\n",
    "    # get a timestamp for the summary\n",
    "    sum_timestamp = time.strftime(\"%Y%m%d_%H%M%S\",time.localtime())\n",
    "    # try downloading the summary pdf and catch any errors\n",
    "    errors = []\n",
    "    try:\n",
    "        response = requests.get(iris_source.loc[i, 'IRIS Summary URL'])\n",
    "    except:\n",
    "        errors.append(iris_source.loc[i, 'IRIS Summary URL'])\n",
    "    file = open(r'output\\summaries\\iris_'+iris_source.loc[i, 'Chemical Name']+'_summary_'+sum_timestamp+'.pdf', 'wb')\n",
    "    file.write(response.content)\n",
    "    file.close()\n",
    "    \n",
    "    print(chem_timestamp, i/570*100, iris_source.loc[i, 'Chemical Name'])"
   ]
  },
  {
   "cell_type": "markdown",
   "id": "b352978d",
   "metadata": {},
   "source": [
    "# Resolving errors"
   ]
  },
  {
   "cell_type": "code",
   "execution_count": 8,
   "id": "ae1f580d",
   "metadata": {},
   "outputs": [
    {
     "data": {
      "text/plain": [
       "[]"
      ]
     },
     "execution_count": 8,
     "metadata": {},
     "output_type": "execute_result"
    }
   ],
   "source": [
    "messed_up_names\n",
    "# I renamed the first to \"Cyhalothrin (Karate)\" and the second to \"Hydrazine (Hydrazine Sulfate),\" as the CAS given is for\n",
    "# hydrazine but I didn't want to throw away information.\n",
    "# I then reran the script, since it would skip over every file as they were all in output\\screenshots but those two."
   ]
  },
  {
   "cell_type": "code",
   "execution_count": 14,
   "id": "fab4df0a",
   "metadata": {},
   "outputs": [],
   "source": [
    "# A quick flip through the screenshots folder revealed only one page that needed to be corrected, as it had too many buttons\n",
    "# We can just correct this manually\n",
    "Options = webdriver.ChromeOptions()\n",
    "Options.headless = True \n",
    "s=Service(r'C:\\Users\\JWILLI29\\OneDrive - Environmental Protection Agency (EPA)\\Profile\\Documents\\chromedriver.exe')\n",
    "URL = \"https://iris.epa.gov/ChemicalLanding/&substance_nmbr=197\"\n",
    "driver = webdriver.Chrome(service=s, options = Options)\n",
    "chem_timestamp = time.strftime(\"%Y%m%d_%H%M%S\",time.localtime())\n",
    "driver.get(URL)\n",
    "time.sleep(0.25)\n",
    "\n",
    "xpaths = [\"//*[@id=\\\"DataTables_Table_0\\\"]/tbody/tr[1]/td[1]\",\n",
    "\"//*[@id=\\\"DataTables_Table_0\\\"]/tbody/tr[3]/td[1]\",\n",
    "\"//*[@id=\\\"DataTables_Table_1\\\"]/tbody/tr[1]/td[1]\",\n",
    "\"//*[@id=\\\"DataTables_Table_1\\\"]/tbody/tr[3]/td[1]\",\n",
    "\"//*[@id=\\\"DataTables_Table_1\\\"]/tbody/tr[5]/td[1]\",\n",
    "\"//*[@id=\\\"DataTables_Table_1\\\"]/tbody/tr[7]/td[1]\",\n",
    "\"//*[@id=\\\"DataTables_Table_1\\\"]/tbody/tr[9]/td[1]\",\n",
    "\"//*[@id=\\\"DataTables_Table_1\\\"]/tbody/tr[11]/td[1]\",\n",
    "\"//*[@id=\\\"DataTables_Table_1\\\"]/tbody/tr[13]/td[1]\"]\n",
    "\n",
    "for x in xpaths:\n",
    "    driver.find_element(By.XPATH, x).click()\n",
    "    time.sleep(0.25)\n",
    "    \n",
    "full_width = driver.execute_script('return document.body.parentNode.scrollWidth')\n",
    "time.sleep(0.25)\n",
    "full_height = driver.execute_script('return document.body.parentNode.scrollHeight')\n",
    "time.sleep(0.25)\n",
    "driver.set_window_size(full_width + 500, full_height)\n",
    "time.sleep(0.25)\n",
    "\n",
    "# screenshot everything inside the main content tag (everything but header and footer)\n",
    "content = driver.find_element(By.XPATH, '//*[@id=\\\"main-content\\\"]')\n",
    "time.sleep(0.25)\n",
    "content.screenshot(r'output\\chemicals\\screenshots\\1,1,1-Trichloroethane.png')\n",
    "time.sleep(0.25)\n",
    "\n",
    "# close the driver\n",
    "driver.quit()\n",
    "\n",
    "# save the image as a pdf\n",
    "image = Image.open(r'output\\chemicals\\screenshots\\1,1,1-Trichloroethane.png')\n",
    "image_converted = image.convert('RGB')\n",
    "image_converted.save(r'output\\chemicals\\iris_1,1,1-Trichloroethane_webpage_'+chem_timestamp+'.pdf', \n",
    "                     quality = 100)"
   ]
  },
  {
   "cell_type": "code",
   "execution_count": 16,
   "id": "3bb508dd",
   "metadata": {},
   "outputs": [
    {
     "name": "stdout",
     "output_type": "stream",
     "text": [
      "572 572 571\n"
     ]
    }
   ],
   "source": [
    "# quick check to see if we have the same number of files in each folder\n",
    "chemicals = os.listdir(r'output\\chemicals')\n",
    "screenshots = os.listdir(r'output\\chemicals\\screenshots')\n",
    "summaries = os.listdir(r'output\\summaries')\n",
    "\n",
    "print(len(chemicals), len(screenshots), len(summaries))\n",
    "\n",
    "# We expect the chemicals directory to contain 571 files + 1 subfolder, so that's good,\n",
    "# and we expect 571 summaries, one for each chemical, but why are there 572 screenshots? expecting 571."
   ]
  },
  {
   "cell_type": "code",
   "execution_count": 28,
   "id": "8b98e5e4",
   "metadata": {
    "scrolled": false
   },
   "outputs": [
    {
     "data": {
      "text/plain": [
       "1,1,1,2-Tetrachloroethane.png            1\n",
       "Naphthalene.png                          1\n",
       "Metribuzin.png                           1\n",
       "Mirex.png                                1\n",
       "Molinate.png                             1\n",
       "                                        ..\n",
       "Decabromodiphenyl ether (BDE-209).png    1\n",
       "Danitol.png                              1\n",
       "Dalapon, sodium salt.png                 1\n",
       "Dacthal.png                              1\n",
       "trans-1,2-Dichloroethylene.png           1\n",
       "Length: 572, dtype: int64"
      ]
     },
     "execution_count": 28,
     "metadata": {},
     "output_type": "execute_result"
    }
   ],
   "source": [
    "pd.DataFrame(screenshots).value_counts()\n",
    "# Well there aren't any duplicate files in there..."
   ]
  },
  {
   "cell_type": "code",
   "execution_count": 49,
   "id": "7d3cb6f4",
   "metadata": {
    "scrolled": true
   },
   "outputs": [
    {
     "name": "stdout",
     "output_type": "stream",
     "text": [
      "iris_Toluene diisocyanate mixture (TDI)_webpage_20220722_112412.pdf =/= Thumbs.db\n"
     ]
    }
   ],
   "source": [
    "for i in range(len(chemicals)):\n",
    "    if sorted(chemicals)[i][5:-28] == sorted(screenshots)[i][:-4]:\n",
    "        pass\n",
    "    else:\n",
    "        print(sorted(chemicals)[i]+\" =/= \"+sorted(screenshots)[i])\n",
    "        break\n",
    "        \n",
    "# Okay, looks like there's a hidden system file containing thumbnails of all the .pngs. I'm satisfied."
   ]
  }
 ],
 "metadata": {
  "kernelspec": {
   "display_name": "Python 3 (ipykernel)",
   "language": "python",
   "name": "python3"
  },
  "language_info": {
   "codemirror_mode": {
    "name": "ipython",
    "version": 3
   },
   "file_extension": ".py",
   "mimetype": "text/x-python",
   "name": "python",
   "nbconvert_exporter": "python",
   "pygments_lexer": "ipython3",
   "version": "3.9.12"
  }
 },
 "nbformat": 4,
 "nbformat_minor": 5
}
